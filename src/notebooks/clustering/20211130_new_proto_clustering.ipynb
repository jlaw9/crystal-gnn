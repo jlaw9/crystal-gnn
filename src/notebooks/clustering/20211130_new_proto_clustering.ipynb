{
 "cells": [
  {
   "cell_type": "code",
   "execution_count": 5,
   "id": "2ae02dbf-941c-45e5-8fae-3230c57e5142",
   "metadata": {},
   "outputs": [],
   "source": [
    "import os\n",
    "from pathlib import Path\n",
    "import gzip\n",
    "import json\n",
    "\n",
    "from pymatgen.core import Structure\n",
    "import pandas as pd\n",
    "import numpy as np\n",
    "from tqdm.auto import tqdm\n",
    "from sklearn.cluster import AgglomerativeClustering\n",
    "from sklearn.metrics.pairwise import cosine_distances, paired_cosine_distances\n",
    "from pymatgen.core import Structure\n",
    "from matminer.featurizers.structure.sites import CrystalNNFingerprint\n",
    "\n",
    "import matplotlib.pyplot as plt\n",
    "import seaborn as sns\n",
    "\n",
    "tqdm.pandas()\n",
    "sns.set(context='talk', style='ticks',\n",
    "        color_codes=True, rc={'legend.frameon': False})\n",
    "\n",
    "%matplotlib inline"
   ]
  },
  {
   "cell_type": "code",
   "execution_count": 26,
   "id": "9ac222cb-63ed-4a00-962a-6cc781ae4a6d",
   "metadata": {},
   "outputs": [
    {
     "data": {
      "application/vnd.jupyter.widget-view+json": {
       "model_id": "837f67c2f52443d99bff250ed86ef73e",
       "version_major": 2,
       "version_minor": 0
      },
      "text/plain": [
       "  0%|          | 0/16445 [00:00<?, ?it/s]"
      ]
     },
     "metadata": {},
     "output_type": "display_data"
    }
   ],
   "source": [
    "structure_dir = Path('/projects/rlmolecule/jlaw/crystal-gnn-fork/inputs/structures')\n",
    "\n",
    "def get_structures(filename):\n",
    "    with gzip.open(Path(structure_dir, filename), 'r') as f:\n",
    "        for key, structure_dict in tqdm(json.loads(f.read().decode()).items()):\n",
    "            yield {'id': key, 'structure': Structure.from_dict(structure_dict)}\n",
    "            \n",
    "battery_structures_relaxed = pd.DataFrame(get_structures('battery_relaxed_structures.json.gz'))\n",
    "icsd_structures = pd.DataFrame(get_structures('icsd_structures.json.gz'))\n",
    "battery_structures_relaxed['composition'] = battery_structures_relaxed['id'].str.split('_').apply(lambda x: x[0])\n",
    "battery_structures_relaxed['sg'] = battery_structures_relaxed.id.str.extract('sg(\\d{1,3})').astype(int)\n",
    "\n",
    "calc_energy = pd.read_csv('/projects/rlmolecule/jlaw/crystal-gnn-fork/inputs/structures/battery_relaxed_energies.csv')"
   ]
  },
  {
   "cell_type": "code",
   "execution_count": 3,
   "id": "4adc002e-a515-4a26-92b7-4bbeb35a2599",
   "metadata": {},
   "outputs": [],
   "source": [
    "battery_structures_relaxed['volume'] = battery_structures_relaxed.structure.apply(lambda x: x.volume / x.num_sites)  \n",
    "battery_structures_relaxed['scaled_volume'] = battery_structures_relaxed.volume / 10\n",
    "battery_structures_relaxed['energy'] = calc_energy.set_index('id').loc[battery_structures_relaxed.id].energyperatom.values"
   ]
  },
  {
   "cell_type": "code",
   "execution_count": 34,
   "id": "e2ffd9c4-e852-4c9a-95cc-06c7d5c7f2c6",
   "metadata": {},
   "outputs": [],
   "source": [
    "battery_fingerprints = pd.read_parquet('/projects/rlmolecule/pstjohn/crystal_fingerprints/battery_fingerprints_no_chem.parquet').dropna()\n",
    "battery_fingerprints['icsd'] = battery_fingerprints.id.str.extract('(icsd_\\d{6})')[0]\n",
    "\n",
    "df_icsd_proto = battery_fingerprints[battery_fingerprints.type == 'icsd'].copy()\n",
    "df_icsd_proto['composition_type'] = df_icsd_proto.id.str.split('|').apply(lambda x: x[0])\\\n",
    "    .str.split('_').apply(lambda x: tuple((int(i) for i in x[1:])))\n",
    "\n",
    "battery_unrelaxed = battery_fingerprints[battery_fingerprints.type == 'unrelaxed']\n",
    "battery_relaxed = battery_fingerprints[battery_fingerprints.type == 'relaxed'].copy()"
   ]
  },
  {
   "cell_type": "code",
   "execution_count": 9,
   "id": "4097c52a-43de-4157-aa28-eba6b1c86a3c",
   "metadata": {},
   "outputs": [
    {
     "data": {
      "text/html": [
       "<div>\n",
       "<style scoped>\n",
       "    .dataframe tbody tr th:only-of-type {\n",
       "        vertical-align: middle;\n",
       "    }\n",
       "\n",
       "    .dataframe tbody tr th {\n",
       "        vertical-align: top;\n",
       "    }\n",
       "\n",
       "    .dataframe thead th {\n",
       "        text-align: right;\n",
       "    }\n",
       "</style>\n",
       "<table border=\"1\" class=\"dataframe\">\n",
       "  <thead>\n",
       "    <tr style=\"text-align: right;\">\n",
       "      <th></th>\n",
       "      <th>0</th>\n",
       "      <th>1</th>\n",
       "      <th>2</th>\n",
       "      <th>3</th>\n",
       "      <th>4</th>\n",
       "      <th>5</th>\n",
       "      <th>6</th>\n",
       "      <th>7</th>\n",
       "      <th>8</th>\n",
       "      <th>9</th>\n",
       "      <th>...</th>\n",
       "      <th>116</th>\n",
       "      <th>117</th>\n",
       "      <th>118</th>\n",
       "      <th>119</th>\n",
       "      <th>120</th>\n",
       "      <th>121</th>\n",
       "      <th>id</th>\n",
       "      <th>type</th>\n",
       "      <th>icsd</th>\n",
       "      <th>composition_type</th>\n",
       "    </tr>\n",
       "  </thead>\n",
       "  <tbody>\n",
       "    <tr>\n",
       "      <th>0</th>\n",
       "      <td>0.357694</td>\n",
       "      <td>0.291032</td>\n",
       "      <td>0.357694</td>\n",
       "      <td>0.291032</td>\n",
       "      <td>0.323488</td>\n",
       "      <td>0.274923</td>\n",
       "      <td>0.03359</td>\n",
       "      <td>0.08443</td>\n",
       "      <td>0.108343</td>\n",
       "      <td>0.210750</td>\n",
       "      <td>...</td>\n",
       "      <td>0.0</td>\n",
       "      <td>0.0</td>\n",
       "      <td>0.0</td>\n",
       "      <td>0.0</td>\n",
       "      <td>0.0</td>\n",
       "      <td>0.0</td>\n",
       "      <td>_1_1_1_2_3|orthorhombic|POSCAR_sg62_icsd_174512</td>\n",
       "      <td>icsd</td>\n",
       "      <td>icsd_174512</td>\n",
       "      <td>(1, 1, 1, 2, 3)</td>\n",
       "    </tr>\n",
       "    <tr>\n",
       "      <th>1</th>\n",
       "      <td>0.236825</td>\n",
       "      <td>0.267743</td>\n",
       "      <td>0.236825</td>\n",
       "      <td>0.267743</td>\n",
       "      <td>0.058103</td>\n",
       "      <td>0.047493</td>\n",
       "      <td>0.00488</td>\n",
       "      <td>0.00832</td>\n",
       "      <td>0.022488</td>\n",
       "      <td>0.030999</td>\n",
       "      <td>...</td>\n",
       "      <td>0.0</td>\n",
       "      <td>0.0</td>\n",
       "      <td>0.0</td>\n",
       "      <td>0.0</td>\n",
       "      <td>0.0</td>\n",
       "      <td>0.0</td>\n",
       "      <td>_1_1_1_2_3|orthorhombic|POSCAR_sg70_icsd_079945</td>\n",
       "      <td>icsd</td>\n",
       "      <td>icsd_079945</td>\n",
       "      <td>(1, 1, 1, 2, 3)</td>\n",
       "    </tr>\n",
       "  </tbody>\n",
       "</table>\n",
       "<p>2 rows × 126 columns</p>\n",
       "</div>"
      ],
      "text/plain": [
       "          0         1         2         3         4         5        6  \\\n",
       "0  0.357694  0.291032  0.357694  0.291032  0.323488  0.274923  0.03359   \n",
       "1  0.236825  0.267743  0.236825  0.267743  0.058103  0.047493  0.00488   \n",
       "\n",
       "         7         8         9  ...  116  117  118  119  120  121  \\\n",
       "0  0.08443  0.108343  0.210750  ...  0.0  0.0  0.0  0.0  0.0  0.0   \n",
       "1  0.00832  0.022488  0.030999  ...  0.0  0.0  0.0  0.0  0.0  0.0   \n",
       "\n",
       "                                                id  type         icsd  \\\n",
       "0  _1_1_1_2_3|orthorhombic|POSCAR_sg62_icsd_174512  icsd  icsd_174512   \n",
       "1  _1_1_1_2_3|orthorhombic|POSCAR_sg70_icsd_079945  icsd  icsd_079945   \n",
       "\n",
       "   composition_type  \n",
       "0   (1, 1, 1, 2, 3)  \n",
       "1   (1, 1, 1, 2, 3)  \n",
       "\n",
       "[2 rows x 126 columns]"
      ]
     },
     "execution_count": 9,
     "metadata": {},
     "output_type": "execute_result"
    }
   ],
   "source": [
    "df_icsd_proto.head(2)"
   ]
  },
  {
   "cell_type": "code",
   "execution_count": 11,
   "id": "b9764bed-5aeb-4ad3-8b9b-c9fa164aeca7",
   "metadata": {},
   "outputs": [
    {
     "data": {
      "text/plain": [
       "(1, 1, 4)"
      ]
     },
     "execution_count": 11,
     "metadata": {},
     "output_type": "execute_result"
    }
   ],
   "source": [
    "import re\n",
    "def extract_comp_type(comp):\n",
    "    # split by the digits\n",
    "    # e.g., for \"Li1Sc1F4\": ['Li', '1', 'Sc', '1', 'F', '4', '']\n",
    "    split = np.asarray(re.split('(\\d+)', comp))\n",
    "    comp_type = tuple(sorted(map(int, split[range(1, len(split), 2)])))\n",
    "    return comp_type\n",
    "extract_comp_type(\"F4Li1Sc1\")"
   ]
  },
  {
   "cell_type": "code",
   "execution_count": 36,
   "id": "bcc1e98b-82b6-4dc4-9376-bd33d92517ff",
   "metadata": {},
   "outputs": [
    {
     "data": {
      "text/html": [
       "<div>\n",
       "<style scoped>\n",
       "    .dataframe tbody tr th:only-of-type {\n",
       "        vertical-align: middle;\n",
       "    }\n",
       "\n",
       "    .dataframe tbody tr th {\n",
       "        vertical-align: top;\n",
       "    }\n",
       "\n",
       "    .dataframe thead th {\n",
       "        text-align: right;\n",
       "    }\n",
       "</style>\n",
       "<table border=\"1\" class=\"dataframe\">\n",
       "  <thead>\n",
       "    <tr style=\"text-align: right;\">\n",
       "      <th></th>\n",
       "      <th>0</th>\n",
       "      <th>1</th>\n",
       "      <th>2</th>\n",
       "      <th>3</th>\n",
       "      <th>4</th>\n",
       "      <th>5</th>\n",
       "      <th>6</th>\n",
       "      <th>7</th>\n",
       "      <th>8</th>\n",
       "      <th>9</th>\n",
       "      <th>...</th>\n",
       "      <th>117</th>\n",
       "      <th>118</th>\n",
       "      <th>119</th>\n",
       "      <th>120</th>\n",
       "      <th>121</th>\n",
       "      <th>id</th>\n",
       "      <th>type</th>\n",
       "      <th>icsd</th>\n",
       "      <th>composition</th>\n",
       "      <th>composition_type</th>\n",
       "    </tr>\n",
       "  </thead>\n",
       "  <tbody>\n",
       "    <tr>\n",
       "      <th>4170</th>\n",
       "      <td>0.233125</td>\n",
       "      <td>0.249362</td>\n",
       "      <td>0.233125</td>\n",
       "      <td>0.249362</td>\n",
       "      <td>0.103142</td>\n",
       "      <td>0.123302</td>\n",
       "      <td>0.042751</td>\n",
       "      <td>0.068929</td>\n",
       "      <td>0.048339</td>\n",
       "      <td>0.065723</td>\n",
       "      <td>...</td>\n",
       "      <td>0.0</td>\n",
       "      <td>0.0</td>\n",
       "      <td>0.0</td>\n",
       "      <td>0.0</td>\n",
       "      <td>0.0</td>\n",
       "      <td>Na1Cd1Si1Cl4P1_sg11_icsd_065346_3</td>\n",
       "      <td>relaxed</td>\n",
       "      <td>icsd_065346</td>\n",
       "      <td>Na1Cd1Si1Cl4P1</td>\n",
       "      <td>(1, 1, 1, 1, 4)</td>\n",
       "    </tr>\n",
       "    <tr>\n",
       "      <th>4171</th>\n",
       "      <td>0.201718</td>\n",
       "      <td>0.190068</td>\n",
       "      <td>0.201718</td>\n",
       "      <td>0.190068</td>\n",
       "      <td>0.234840</td>\n",
       "      <td>0.271078</td>\n",
       "      <td>0.088184</td>\n",
       "      <td>0.159498</td>\n",
       "      <td>0.105297</td>\n",
       "      <td>0.194897</td>\n",
       "      <td>...</td>\n",
       "      <td>0.0</td>\n",
       "      <td>0.0</td>\n",
       "      <td>0.0</td>\n",
       "      <td>0.0</td>\n",
       "      <td>0.0</td>\n",
       "      <td>Na2Hg1Si1O1N2_sg14_icsd_170588_4</td>\n",
       "      <td>relaxed</td>\n",
       "      <td>icsd_170588</td>\n",
       "      <td>Na2Hg1Si1O1N2</td>\n",
       "      <td>(1, 1, 1, 2, 2)</td>\n",
       "    </tr>\n",
       "  </tbody>\n",
       "</table>\n",
       "<p>2 rows × 127 columns</p>\n",
       "</div>"
      ],
      "text/plain": [
       "             0         1         2         3         4         5         6  \\\n",
       "4170  0.233125  0.249362  0.233125  0.249362  0.103142  0.123302  0.042751   \n",
       "4171  0.201718  0.190068  0.201718  0.190068  0.234840  0.271078  0.088184   \n",
       "\n",
       "             7         8         9  ...  117  118  119  120  121  \\\n",
       "4170  0.068929  0.048339  0.065723  ...  0.0  0.0  0.0  0.0  0.0   \n",
       "4171  0.159498  0.105297  0.194897  ...  0.0  0.0  0.0  0.0  0.0   \n",
       "\n",
       "                                     id     type         icsd     composition  \\\n",
       "4170  Na1Cd1Si1Cl4P1_sg11_icsd_065346_3  relaxed  icsd_065346  Na1Cd1Si1Cl4P1   \n",
       "4171   Na2Hg1Si1O1N2_sg14_icsd_170588_4  relaxed  icsd_170588   Na2Hg1Si1O1N2   \n",
       "\n",
       "      composition_type  \n",
       "4170   (1, 1, 1, 1, 4)  \n",
       "4171   (1, 1, 1, 2, 2)  \n",
       "\n",
       "[2 rows x 127 columns]"
      ]
     },
     "execution_count": 36,
     "metadata": {},
     "output_type": "execute_result"
    }
   ],
   "source": [
    "battery_relaxed['composition'] = battery_relaxed.id.str.split('_').apply(lambda x: x[0])\n",
    "battery_relaxed['composition_type'] = battery_relaxed.composition.apply(extract_comp_type)\n",
    "battery_relaxed.head(2)"
   ]
  },
  {
   "cell_type": "code",
   "execution_count": 150,
   "id": "7773ad6c-8998-4496-a989-79ffd2c2e72c",
   "metadata": {},
   "outputs": [
    {
     "data": {
      "text/plain": [
       "72"
      ]
     },
     "execution_count": 150,
     "metadata": {},
     "output_type": "execute_result"
    }
   ],
   "source": [
    "df_proto_and_relaxed['composition_type'].nunique()"
   ]
  },
  {
   "cell_type": "code",
   "execution_count": 151,
   "id": "6d79c8d9-a698-4742-8f1e-05f4e620eae3",
   "metadata": {},
   "outputs": [
    {
     "data": {
      "text/plain": [
       "64"
      ]
     },
     "execution_count": 151,
     "metadata": {},
     "output_type": "execute_result"
    }
   ],
   "source": [
    "battery_relaxed['composition_type'].nunique()"
   ]
  },
  {
   "cell_type": "code",
   "execution_count": 37,
   "id": "a1f92faf-ebcc-415e-8506-b2ad44dceb05",
   "metadata": {},
   "outputs": [
    {
     "data": {
      "text/html": [
       "<div>\n",
       "<style scoped>\n",
       "    .dataframe tbody tr th:only-of-type {\n",
       "        vertical-align: middle;\n",
       "    }\n",
       "\n",
       "    .dataframe tbody tr th {\n",
       "        vertical-align: top;\n",
       "    }\n",
       "\n",
       "    .dataframe thead th {\n",
       "        text-align: right;\n",
       "    }\n",
       "</style>\n",
       "<table border=\"1\" class=\"dataframe\">\n",
       "  <thead>\n",
       "    <tr style=\"text-align: right;\">\n",
       "      <th></th>\n",
       "      <th>0</th>\n",
       "      <th>1</th>\n",
       "      <th>2</th>\n",
       "      <th>3</th>\n",
       "      <th>4</th>\n",
       "      <th>5</th>\n",
       "      <th>6</th>\n",
       "      <th>7</th>\n",
       "      <th>8</th>\n",
       "      <th>9</th>\n",
       "      <th>...</th>\n",
       "      <th>117</th>\n",
       "      <th>118</th>\n",
       "      <th>119</th>\n",
       "      <th>120</th>\n",
       "      <th>121</th>\n",
       "      <th>id</th>\n",
       "      <th>type</th>\n",
       "      <th>icsd</th>\n",
       "      <th>composition_type</th>\n",
       "      <th>composition</th>\n",
       "    </tr>\n",
       "  </thead>\n",
       "  <tbody>\n",
       "    <tr>\n",
       "      <th>0</th>\n",
       "      <td>0.357694</td>\n",
       "      <td>0.291032</td>\n",
       "      <td>0.357694</td>\n",
       "      <td>0.291032</td>\n",
       "      <td>0.323488</td>\n",
       "      <td>0.274923</td>\n",
       "      <td>0.03359</td>\n",
       "      <td>0.08443</td>\n",
       "      <td>0.108343</td>\n",
       "      <td>0.210750</td>\n",
       "      <td>...</td>\n",
       "      <td>0.0</td>\n",
       "      <td>0.0</td>\n",
       "      <td>0.0</td>\n",
       "      <td>0.0</td>\n",
       "      <td>0.0</td>\n",
       "      <td>_1_1_1_2_3|orthorhombic|POSCAR_sg62_icsd_174512</td>\n",
       "      <td>icsd</td>\n",
       "      <td>icsd_174512</td>\n",
       "      <td>(1, 1, 1, 2, 3)</td>\n",
       "      <td>NaN</td>\n",
       "    </tr>\n",
       "    <tr>\n",
       "      <th>1</th>\n",
       "      <td>0.236825</td>\n",
       "      <td>0.267743</td>\n",
       "      <td>0.236825</td>\n",
       "      <td>0.267743</td>\n",
       "      <td>0.058103</td>\n",
       "      <td>0.047493</td>\n",
       "      <td>0.00488</td>\n",
       "      <td>0.00832</td>\n",
       "      <td>0.022488</td>\n",
       "      <td>0.030999</td>\n",
       "      <td>...</td>\n",
       "      <td>0.0</td>\n",
       "      <td>0.0</td>\n",
       "      <td>0.0</td>\n",
       "      <td>0.0</td>\n",
       "      <td>0.0</td>\n",
       "      <td>_1_1_1_2_3|orthorhombic|POSCAR_sg70_icsd_079945</td>\n",
       "      <td>icsd</td>\n",
       "      <td>icsd_079945</td>\n",
       "      <td>(1, 1, 1, 2, 3)</td>\n",
       "      <td>NaN</td>\n",
       "    </tr>\n",
       "  </tbody>\n",
       "</table>\n",
       "<p>2 rows × 127 columns</p>\n",
       "</div>"
      ],
      "text/plain": [
       "          0         1         2         3         4         5        6  \\\n",
       "0  0.357694  0.291032  0.357694  0.291032  0.323488  0.274923  0.03359   \n",
       "1  0.236825  0.267743  0.236825  0.267743  0.058103  0.047493  0.00488   \n",
       "\n",
       "         7         8         9  ...  117  118  119  120  121  \\\n",
       "0  0.08443  0.108343  0.210750  ...  0.0  0.0  0.0  0.0  0.0   \n",
       "1  0.00832  0.022488  0.030999  ...  0.0  0.0  0.0  0.0  0.0   \n",
       "\n",
       "                                                id  type         icsd  \\\n",
       "0  _1_1_1_2_3|orthorhombic|POSCAR_sg62_icsd_174512  icsd  icsd_174512   \n",
       "1  _1_1_1_2_3|orthorhombic|POSCAR_sg70_icsd_079945  icsd  icsd_079945   \n",
       "\n",
       "   composition_type  composition  \n",
       "0   (1, 1, 1, 2, 3)          NaN  \n",
       "1   (1, 1, 1, 2, 3)          NaN  \n",
       "\n",
       "[2 rows x 127 columns]"
      ]
     },
     "execution_count": 37,
     "metadata": {},
     "output_type": "execute_result"
    }
   ],
   "source": [
    "df_proto_and_relaxed = pd.concat([df_icsd_proto, battery_relaxed])\n",
    "df_proto_and_relaxed.head(2)"
   ]
  },
  {
   "cell_type": "code",
   "execution_count": 38,
   "id": "2a464e1e-1ae3-420c-9dcf-b8a39909e9f2",
   "metadata": {},
   "outputs": [
    {
     "data": {
      "text/html": [
       "<div>\n",
       "<style scoped>\n",
       "    .dataframe tbody tr th:only-of-type {\n",
       "        vertical-align: middle;\n",
       "    }\n",
       "\n",
       "    .dataframe tbody tr th {\n",
       "        vertical-align: top;\n",
       "    }\n",
       "\n",
       "    .dataframe thead th {\n",
       "        text-align: right;\n",
       "    }\n",
       "</style>\n",
       "<table border=\"1\" class=\"dataframe\">\n",
       "  <thead>\n",
       "    <tr style=\"text-align: right;\">\n",
       "      <th></th>\n",
       "      <th>0</th>\n",
       "      <th>1</th>\n",
       "      <th>2</th>\n",
       "      <th>3</th>\n",
       "      <th>4</th>\n",
       "      <th>5</th>\n",
       "      <th>6</th>\n",
       "      <th>7</th>\n",
       "      <th>8</th>\n",
       "      <th>9</th>\n",
       "      <th>...</th>\n",
       "      <th>117</th>\n",
       "      <th>118</th>\n",
       "      <th>119</th>\n",
       "      <th>120</th>\n",
       "      <th>121</th>\n",
       "      <th>id</th>\n",
       "      <th>type</th>\n",
       "      <th>icsd</th>\n",
       "      <th>composition_type</th>\n",
       "      <th>composition</th>\n",
       "    </tr>\n",
       "  </thead>\n",
       "  <tbody>\n",
       "    <tr>\n",
       "      <th>72008</th>\n",
       "      <td>0.033869</td>\n",
       "      <td>0.022807</td>\n",
       "      <td>0.033869</td>\n",
       "      <td>0.022807</td>\n",
       "      <td>0.080459</td>\n",
       "      <td>0.083284</td>\n",
       "      <td>0.040617</td>\n",
       "      <td>0.080162</td>\n",
       "      <td>0.039654</td>\n",
       "      <td>0.055969</td>\n",
       "      <td>...</td>\n",
       "      <td>0.0</td>\n",
       "      <td>0.0</td>\n",
       "      <td>0.0</td>\n",
       "      <td>0.0</td>\n",
       "      <td>0.0</td>\n",
       "      <td>K3Cd1Hg1F1O3_sg29_icsd_010318_12</td>\n",
       "      <td>relaxed</td>\n",
       "      <td>icsd_010318</td>\n",
       "      <td>(1, 1, 1, 3, 3)</td>\n",
       "      <td>K3Cd1Hg1F1O3</td>\n",
       "    </tr>\n",
       "    <tr>\n",
       "      <th>72009</th>\n",
       "      <td>0.067794</td>\n",
       "      <td>0.041127</td>\n",
       "      <td>0.067794</td>\n",
       "      <td>0.041127</td>\n",
       "      <td>0.418165</td>\n",
       "      <td>0.216387</td>\n",
       "      <td>0.002759</td>\n",
       "      <td>0.005651</td>\n",
       "      <td>0.034179</td>\n",
       "      <td>0.028635</td>\n",
       "      <td>...</td>\n",
       "      <td>0.0</td>\n",
       "      <td>0.0</td>\n",
       "      <td>0.0</td>\n",
       "      <td>0.0</td>\n",
       "      <td>0.0</td>\n",
       "      <td>Zn1P1I7_sg74_icsd_413972_1</td>\n",
       "      <td>relaxed</td>\n",
       "      <td>icsd_413972</td>\n",
       "      <td>(1, 1, 7)</td>\n",
       "      <td>Zn1P1I7</td>\n",
       "    </tr>\n",
       "  </tbody>\n",
       "</table>\n",
       "<p>2 rows × 127 columns</p>\n",
       "</div>"
      ],
      "text/plain": [
       "              0         1         2         3         4         5         6  \\\n",
       "72008  0.033869  0.022807  0.033869  0.022807  0.080459  0.083284  0.040617   \n",
       "72009  0.067794  0.041127  0.067794  0.041127  0.418165  0.216387  0.002759   \n",
       "\n",
       "              7         8         9  ...  117  118  119  120  121  \\\n",
       "72008  0.080162  0.039654  0.055969  ...  0.0  0.0  0.0  0.0  0.0   \n",
       "72009  0.005651  0.034179  0.028635  ...  0.0  0.0  0.0  0.0  0.0   \n",
       "\n",
       "                                     id     type         icsd  \\\n",
       "72008  K3Cd1Hg1F1O3_sg29_icsd_010318_12  relaxed  icsd_010318   \n",
       "72009        Zn1P1I7_sg74_icsd_413972_1  relaxed  icsd_413972   \n",
       "\n",
       "       composition_type   composition  \n",
       "72008   (1, 1, 1, 3, 3)  K3Cd1Hg1F1O3  \n",
       "72009         (1, 1, 7)       Zn1P1I7  \n",
       "\n",
       "[2 rows x 127 columns]"
      ]
     },
     "execution_count": 38,
     "metadata": {},
     "output_type": "execute_result"
    }
   ],
   "source": [
    "df_proto_and_relaxed.tail(2)"
   ]
  },
  {
   "cell_type": "code",
   "execution_count": 61,
   "id": "7d193082-33cd-4ebe-9908-fccc42bb3bf4",
   "metadata": {},
   "outputs": [
    {
     "data": {
      "application/vnd.jupyter.widget-view+json": {
       "model_id": "a6c1c8a8a9fa408bb9cfa89eda06157c",
       "version_major": 2,
       "version_minor": 0
      },
      "text/plain": [
       "  0%|          | 0/72 [00:00<?, ?it/s]"
      ]
     },
     "metadata": {},
     "output_type": "display_data"
    }
   ],
   "source": [
    "# compute the cosine distance between each pair of structure fingerprints\n",
    "from sklearn.metrics.pairwise import manhattan_distances\n",
    "\n",
    "\n",
    "def unstack_uppertriu(dist_df, name='dist'):\n",
    "    dist_df.index.name='Row'\n",
    "    dist_df.columns.name='Column'\n",
    "    outdf = dist_df.where(np.triu(np.ones(dist_df.shape), k=1).astype(bool)).stack().reset_index()\n",
    "    outdf.columns = ['Row', 'Column', name]\n",
    "    return outdf\n",
    "\n",
    "\n",
    "rel_dists = {}\n",
    "for comp_type, df in tqdm(battery_relaxed.groupby('composition_type')):\n",
    "    df_energy = calc_energy.set_index('id').loc[df.id]\n",
    "    df_struct = battery_structures_relaxed.set_index('id').loc[df.id] \n",
    "    energy_dist = pd.DataFrame(manhattan_distances(df_energy.energyperatom.values.reshape((-1, 1))), index=df.id, columns=df.id)\n",
    "    fp_dist = pd.DataFrame(cosine_distances(df.iloc[:, :122]), index=df.id, columns=df.id)\n",
    "    vol_dist = pd.DataFrame(manhattan_distances(df_struct.volume.values.reshape((-1, 1))), index=df.id, columns=df.id)\n",
    "    \n",
    "    fp_dist_unstack = unstack_uppertriu(fp_dist, 'fingerprint_dist')\n",
    "    e_dist_unstack = unstack_uppertriu(energy_dist, 'e_dist')\n",
    "    vol_unstack = unstack_uppertriu(vol_dist, 'vol_dist')\n",
    "    fp_dist_unstack['e_dist'] = e_dist_unstack.e_dist\n",
    "    fp_dist_unstack['vol_dist'] = vol_unstack.vol_dist\n",
    "    rel_dists[comp_type] = fp_dist_unstack\n",
    "    \n",
    "# now repeat for the prototype -> relaxed structure comparison\n",
    "proto_to_rel_dists = {}\n",
    "for comp_type, df in tqdm(df_proto_and_relaxed.groupby('composition_type')):\n",
    "    df_rel = df[df.type == \"relaxed\"]\n",
    "    df_proto = df[df.type == \"icsd\"]\n",
    "    # skip the compositions that don't have any relaxed structures yet\n",
    "    if len(df_rel) == 0:\n",
    "        continue\n",
    "        \n",
    "    fp_dist = pd.DataFrame(cosine_distances(X=df[df.id.isin(df_proto.id)].iloc[:, :122], \n",
    "                                            Y=df[df.id.isin(df_rel.id)].iloc[:, :122]),\n",
    "                           index=df_proto.id, columns=df_rel.id)\n",
    "    fp_dist_unstack = unstack_uppertriu(fp_dist, 'fingerprint_dist')\n",
    "    proto_to_rel_dists[comp_type] = fp_dist_unstack"
   ]
  },
  {
   "cell_type": "code",
   "execution_count": 62,
   "id": "c62e6852-2ab8-4fd0-9591-6b294d8c591c",
   "metadata": {},
   "outputs": [
    {
     "data": {
      "text/html": [
       "<div>\n",
       "<style scoped>\n",
       "    .dataframe tbody tr th:only-of-type {\n",
       "        vertical-align: middle;\n",
       "    }\n",
       "\n",
       "    .dataframe tbody tr th {\n",
       "        vertical-align: top;\n",
       "    }\n",
       "\n",
       "    .dataframe thead th {\n",
       "        text-align: right;\n",
       "    }\n",
       "</style>\n",
       "<table border=\"1\" class=\"dataframe\">\n",
       "  <thead>\n",
       "    <tr style=\"text-align: right;\">\n",
       "      <th></th>\n",
       "      <th>Row</th>\n",
       "      <th>Column</th>\n",
       "      <th>fingerprint_dist</th>\n",
       "    </tr>\n",
       "  </thead>\n",
       "  <tbody>\n",
       "    <tr>\n",
       "      <th>0</th>\n",
       "      <td>_3_3_4|orthorhombic|POSCAR_sg52_icsd_040206</td>\n",
       "      <td>K3La3P4_sg62_icsd_280271_2</td>\n",
       "      <td>0.343244</td>\n",
       "    </tr>\n",
       "    <tr>\n",
       "      <th>1</th>\n",
       "      <td>_3_3_4|orthorhombic|POSCAR_sg52_icsd_040206</td>\n",
       "      <td>Zn3Cd3P4_sg14_icsd_014049_2</td>\n",
       "      <td>0.258270</td>\n",
       "    </tr>\n",
       "  </tbody>\n",
       "</table>\n",
       "</div>"
      ],
      "text/plain": [
       "                                           Row                       Column  \\\n",
       "0  _3_3_4|orthorhombic|POSCAR_sg52_icsd_040206   K3La3P4_sg62_icsd_280271_2   \n",
       "1  _3_3_4|orthorhombic|POSCAR_sg52_icsd_040206  Zn3Cd3P4_sg14_icsd_014049_2   \n",
       "\n",
       "   fingerprint_dist  \n",
       "0          0.343244  \n",
       "1          0.258270  "
      ]
     },
     "execution_count": 62,
     "metadata": {},
     "output_type": "execute_result"
    }
   ],
   "source": [
    "fp_dist_unstack.head(2)"
   ]
  },
  {
   "cell_type": "code",
   "execution_count": null,
   "id": "e1cf592c-2c95-45bb-a33b-01416c640c58",
   "metadata": {},
   "outputs": [],
   "source": [
    "fp_dist_unstack.tail(2)"
   ]
  },
  {
   "cell_type": "code",
   "execution_count": null,
   "id": "cd57913c-2946-4eb0-96da-a8d27699faa9",
   "metadata": {},
   "outputs": [],
   "source": [
    "dists = pd.concat(dists)"
   ]
  },
  {
   "cell_type": "markdown",
   "id": "fe982411-8ccb-44d0-9496-46a8af3c817f",
   "metadata": {},
   "source": [
    "### Define new prototypes using clustering\n",
    "- See https://github.com/jlaw9/crystal-gnn/issues/3\n",
    "- we should restrict the clustering by composition type\n",
    "- cluster those that don't match known prototypes to find potential new prototypes.\n",
    "- if multiple calculations converge to the same prototype, do we keep the one with the lower energy?"
   ]
  },
  {
   "cell_type": "code",
   "execution_count": 169,
   "id": "d076eaf6-5474-4605-ad07-53ffea19dea9",
   "metadata": {},
   "outputs": [
    {
     "data": {
      "text/html": [
       "<div>\n",
       "<style scoped>\n",
       "    .dataframe tbody tr th:only-of-type {\n",
       "        vertical-align: middle;\n",
       "    }\n",
       "\n",
       "    .dataframe tbody tr th {\n",
       "        vertical-align: top;\n",
       "    }\n",
       "\n",
       "    .dataframe thead th {\n",
       "        text-align: right;\n",
       "    }\n",
       "</style>\n",
       "<table border=\"1\" class=\"dataframe\">\n",
       "  <thead>\n",
       "    <tr style=\"text-align: right;\">\n",
       "      <th></th>\n",
       "      <th>Row</th>\n",
       "      <th>Column</th>\n",
       "      <th>fingerprint_dist</th>\n",
       "    </tr>\n",
       "  </thead>\n",
       "  <tbody>\n",
       "    <tr>\n",
       "      <th>0</th>\n",
       "      <td>_1_1|orthorhombic|POSCAR_sg38_icsd_183254</td>\n",
       "      <td>Li1F1_sg69_icsd_028842_2</td>\n",
       "      <td>0.742776</td>\n",
       "    </tr>\n",
       "    <tr>\n",
       "      <th>1</th>\n",
       "      <td>_1_1|orthorhombic|POSCAR_sg38_icsd_183254</td>\n",
       "      <td>Li1F1_sg40_icsd_002431_1</td>\n",
       "      <td>0.753702</td>\n",
       "    </tr>\n",
       "  </tbody>\n",
       "</table>\n",
       "</div>"
      ],
      "text/plain": [
       "                                         Row                    Column  \\\n",
       "0  _1_1|orthorhombic|POSCAR_sg38_icsd_183254  Li1F1_sg69_icsd_028842_2   \n",
       "1  _1_1|orthorhombic|POSCAR_sg38_icsd_183254  Li1F1_sg40_icsd_002431_1   \n",
       "\n",
       "   fingerprint_dist  \n",
       "0          0.742776  \n",
       "1          0.753702  "
      ]
     },
     "execution_count": 169,
     "metadata": {},
     "output_type": "execute_result"
    }
   ],
   "source": [
    "rel_matched_proto = set()\n",
    "for comp_type, df in proto_to_rel_dists.items():\n",
    "    break\n",
    "df.head(2)"
   ]
  },
  {
   "cell_type": "code",
   "execution_count": 175,
   "id": "d06c23a8-675b-42c2-9883-48f28b7f5a36",
   "metadata": {},
   "outputs": [
    {
     "data": {
      "text/plain": [
       "<AxesSubplot:>"
      ]
     },
     "execution_count": 175,
     "metadata": {},
     "output_type": "execute_result"
    },
    {
     "data": {
      "image/png": "[encoded data removed]",
      "text/plain": [
       "<Figure size 432x288 with 1 Axes>"
      ]
     },
     "metadata": {
      "needs_background": "light"
     },
     "output_type": "display_data"
    }
   ],
   "source": [
    "pd.concat(list(proto_to_rel_dists.values())).groupby('Column').min().fingerprint_dist.hist(bins=np.arange(0,1,0.01))"
   ]
  },
  {
   "cell_type": "code",
   "execution_count": 166,
   "id": "a715412f-3554-4d85-915e-db168c41ad42",
   "metadata": {},
   "outputs": [
    {
     "name": "stdout",
     "output_type": "stream",
     "text": [
      "Fingerprint distance cutoff: 0.01\n",
      "5014 relaxed structures match a prototye\n"
     ]
    },
    {
     "data": {
      "application/vnd.jupyter.widget-view+json": {
       "model_id": "6d615cdacb13446389bdc39faba8df57",
       "version_major": 2,
       "version_minor": 0
      },
      "text/plain": [
       "  0%|          | 0/64 [00:00<?, ?it/s]"
      ]
     },
     "metadata": {},
     "output_type": "display_data"
    }
   ],
   "source": [
    "dist_cutoff = 0.01\n",
    "print(f\"Fingerprint distance cutoff: {dist_cutoff}\")\n",
    "# for each structure, first see if it already matches a known prototype. If so, we shouldn't consider it for a new prototype\n",
    "rel_matched_proto = set()\n",
    "for comp_type, df in proto_to_rel_dists.items():\n",
    "    df = df[df.fingerprint_dist < dist_cutoff]\n",
    "    rel_matched_proto |= (set(df['Column'].values))\n",
    "print(f\"{len(rel_matched_proto)} relaxed structures match a prototye\")\n",
    "\n",
    "# now perform the clustering\n",
    "all_clusters = {}\n",
    "structure_indexes = {}\n",
    "for comp_type, df in tqdm(rel_dists.items()):\n",
    "#     df = df[df.fingerprint_dist < dist_cutoff]\n",
    "    df = df[(~df.Row.isin(rel_matched_proto) & ~df.Column.isin(rel_matched_proto))]\n",
    "    dist_mat = df.pivot(index='Row', columns='Column', values='fingerprint_dist')\n",
    "    # fill the other side of the matrix, since we just kept the upper triangle before\n",
    "    dist_mat = dist_mat.combine_first(dist_mat.T)\n",
    "    dist_mat.replace(np.nan, 1, inplace=True)\n",
    "    cluster = AgglomerativeClustering(affinity='precomputed',\n",
    "                                      distance_threshold=dist_cutoff, \n",
    "                                      n_clusters=None, \n",
    "                                      linkage='complete'\n",
    "                                     )\n",
    "    clusters = cluster.fit_predict(dist_mat)\n",
    "    # also store the indexes\n",
    "    structure_indexes[comp_type] = list(dist_mat.index)\n",
    "    all_clusters[comp_type] = clusters\n",
    "# df.head(2)"
   ]
  },
  {
   "cell_type": "code",
   "execution_count": 182,
   "id": "7a6f56a5-3a74-448e-8c66-7bf8e9437d1a",
   "metadata": {},
   "outputs": [
    {
     "name": "stdout",
     "output_type": "stream",
     "text": [
      "Fingerprint distance cutoff: 0.01\n",
      "5014 relaxed structures match a prototye\n",
      "Fingerprint distance cutoff: 0.05\n",
      "12923 relaxed structures match a prototye\n",
      "Fingerprint distance cutoff: 0.1\n",
      "25818 relaxed structures match a prototye\n"
     ]
    }
   ],
   "source": [
    "# dist_cutoff = 0.01\n",
    "for dist_cutoff in [0.01, 0.05, 0.1]:\n",
    "    print(f\"Fingerprint distance cutoff: {dist_cutoff}\")\n",
    "    # for each structure, first see if it already matches a known prototype. If so, we shouldn't consider it for a new prototype\n",
    "    rel_matched_proto = set()\n",
    "    for comp_type, df in proto_to_rel_dists.items():\n",
    "        df = df[df.fingerprint_dist < dist_cutoff]\n",
    "        rel_matched_proto |= (set(df['Column'].values))\n",
    "    print(f\"{len(rel_matched_proto)} relaxed structures match a prototye\")"
   ]
  },
  {
   "cell_type": "code",
   "execution_count": 167,
   "id": "e09536e8-1b61-4e00-a1aa-6d69de231add",
   "metadata": {},
   "outputs": [
    {
     "data": {
      "text/plain": [
       "Text(0.5, 1.0, 'Cluster sizes for fingerprint distance cutoff: 0.01')"
      ]
     },
     "execution_count": 167,
     "metadata": {},
     "output_type": "execute_result"
    },
    {
     "data": {
      "image/png": "[encoded data removed]",
      "text/plain": [
       "<Figure size 432x288 with 1 Axes>"
      ]
     },
     "metadata": {
      "needs_background": "light"
     },
     "output_type": "display_data"
    }
   ],
   "source": [
    "# make a histogram of all cluster sizes\n",
    "all_sizes = []\n",
    "for comp_type, clusters in all_clusters.items():\n",
    "    S = pd.Series(clusters)\n",
    "    sizes = S.value_counts()\n",
    "    all_sizes.append(sizes)\n",
    "all_sizes = pd.concat(all_sizes)\n",
    "    \n",
    "ax = all_sizes.hist(bins=30)\n",
    "ax.set_yscale('log')\n",
    "ax.set_title(f\"Cluster sizes for fingerprint distance cutoff: {dist_cutoff}\")"
   ]
  },
  {
   "cell_type": "code",
   "execution_count": 178,
   "id": "b9680d12-0e12-4a5c-addc-ad3a0d8c7ed8",
   "metadata": {},
   "outputs": [],
   "source": [
    "from collections import defaultdict"
   ]
  },
  {
   "cell_type": "code",
   "execution_count": 180,
   "id": "6f1d2774-a5b2-488c-b9e6-845f62cf7e2b",
   "metadata": {},
   "outputs": [
    {
     "name": "stdout",
     "output_type": "stream",
     "text": [
      "50313 total clusters for fingerprint distance cutoff: 0.01\n",
      "\n",
      "size_cutoff\tnum_clusters\tnum_comp_types_with_clust\n"
     ]
    }
   ],
   "source": [
    "print(f\"{len(all_sizes)} total clusters for fingerprint distance cutoff: {dist_cutoff}\")\n",
    "print()\n",
    "print(\"size_cutoff\\tnum_clusters\\tnum_comp_types_with_clust\")\n",
    "# get some statistics: \n",
    "clust_size_cutoffs = [1, 2, 3, 5, 10, 20, 50]\n",
    "for cutoff in clust_size_cutoffs:\n",
    "    num_gt_cutoff = 0\n",
    "    num_comp_types_with_a_clust = 0\n",
    "    for comp_type, clusters in all_clusters.items():\n",
    "#         S = pd.Series(clusters)\n",
    "#         sizes = S.value_counts()\n",
    "        clusters_by_idx = defaultdict(set)\n",
    "        for idx, clust in enumerate(clusters):\n",
    "            clusters_by_idx[clust].add(structure_indexes[comp_type][idx])\n",
    "        for clust, structure\n",
    "    \n",
    "#         num_gt_cutoff += len(sizes[sizes >= cutoff])\n",
    "#         if len(sizes[sizes >= cutoff]) > 0:\n",
    "#             num_comp_types_with_a_clust += 1\n",
    "# #     print(f\"{num_comp_types_with_a_clust} have a cluster with size >= {cutoff}\")\n",
    "#     print(f\"{cutoff}\\t{num_gt_cutoff}\\t{num_comp_types_with_a_clust}\")"
   ]
  },
  {
   "cell_type": "code",
   "execution_count": 161,
   "id": "7e0fcf00-6c5f-4063-8091-66e7567a2b22",
   "metadata": {},
   "outputs": [
    {
     "data": {
      "text/plain": [
       "Text(0.5, 1.0, 'Cluster sizes for fingerprint distance cutoff: 0.05')"
      ]
     },
     "execution_count": 161,
     "metadata": {},
     "output_type": "execute_result"
    },
    {
     "data": {
      "image/png": "[encoded data removed]",
      "text/plain": [
       "<Figure size 432x288 with 1 Axes>"
      ]
     },
     "metadata": {
      "needs_background": "light"
     },
     "output_type": "display_data"
    }
   ],
   "source": [
    "# make a histogram of all cluster sizes\n",
    "all_sizes = []\n",
    "for comp_type, clusters in all_clusters.items():\n",
    "    S = pd.Series(clusters)\n",
    "    sizes = S.value_counts()\n",
    "    all_sizes.append(sizes)\n",
    "all_sizes = pd.concat(all_sizes)\n",
    "    \n",
    "ax = all_sizes.hist(bins=30)\n",
    "ax.set_yscale('log')\n",
    "ax.set_title(f\"Cluster sizes for fingerprint distance cutoff: {dist_cutoff}\")"
   ]
  },
  {
   "cell_type": "code",
   "execution_count": 162,
   "id": "c8cd22ee-4d83-4ea9-b261-fa5894aa0249",
   "metadata": {},
   "outputs": [
    {
     "name": "stdout",
     "output_type": "stream",
     "text": [
      "30622 total clusters for fingerprint distance cutoff: 0.05\n",
      "\n",
      "size_cutoff\tnum_clusters\tnum_comp_types_with_clust\n",
      "1\t30622\t64\n",
      "2\t12110\t64\n",
      "3\t5144\t63\n",
      "5\t1420\t53\n",
      "10\t176\t28\n",
      "20\t21\t9\n",
      "50\t2\t2\n"
     ]
    }
   ],
   "source": [
    "print(f\"{len(all_sizes)} total clusters for fingerprint distance cutoff: {dist_cutoff}\")\n",
    "print()\n",
    "print(\"size_cutoff\\tnum_clusters\\tnum_comp_types_with_clust\")\n",
    "# get some statistics: \n",
    "clust_size_cutoffs = [1, 2, 3, 5, 10, 20, 50]\n",
    "for cutoff in clust_size_cutoffs:\n",
    "    num_gt_cutoff = 0\n",
    "    num_comp_types_with_a_clust = 0\n",
    "    for comp_type, clusters in all_clusters.items():\n",
    "        S = pd.Series(clusters)\n",
    "        sizes = S.value_counts()\n",
    "        num_gt_cutoff += len(sizes[sizes >= cutoff])\n",
    "        if len(sizes[sizes >= cutoff]) > 0:\n",
    "            num_comp_types_with_a_clust += 1\n",
    "#     print(f\"{num_comp_types_with_a_clust} have a cluster with size >= {cutoff}\")\n",
    "    print(f\"{cutoff}\\t{num_gt_cutoff}\\t{num_comp_types_with_a_clust}\")"
   ]
  },
  {
   "cell_type": "code",
   "execution_count": 164,
   "id": "46b8b8fd-6ba7-477d-8e93-cd63fc820a6d",
   "metadata": {},
   "outputs": [
    {
     "data": {
      "text/plain": [
       "Text(0.5, 1.0, 'Cluster sizes for fingerprint distance cutoff: 0.1')"
      ]
     },
     "execution_count": 164,
     "metadata": {},
     "output_type": "execute_result"
    },
    {
     "data": {
      "image/png": "[encoded data removed]",
      "text/plain": [
       "<Figure size 432x288 with 1 Axes>"
      ]
     },
     "metadata": {
      "needs_background": "light"
     },
     "output_type": "display_data"
    }
   ],
   "source": [
    "# make a histogram of all cluster sizes\n",
    "all_sizes = []\n",
    "for comp_type, clusters in all_clusters.items():\n",
    "    S = pd.Series(clusters)\n",
    "    sizes = S.value_counts()\n",
    "    all_sizes.append(sizes)\n",
    "all_sizes = pd.concat(all_sizes)\n",
    "    \n",
    "ax = all_sizes.hist(bins=30)\n",
    "ax.set_yscale('log')\n",
    "ax.set_title(f\"Cluster sizes for fingerprint distance cutoff: {dist_cutoff}\")"
   ]
  },
  {
   "cell_type": "code",
   "execution_count": 165,
   "id": "75aa5cb9-6f7b-4a4b-9710-265449fbaeda",
   "metadata": {},
   "outputs": [
    {
     "name": "stdout",
     "output_type": "stream",
     "text": [
      "14680 total clusters for fingerprint distance cutoff: 0.1\n",
      "\n",
      "size_cutoff\tnum_clusters\tnum_comp_types_with_clust\n",
      "1\t14680\t64\n",
      "2\t9397\t64\n",
      "3\t5716\t64\n",
      "5\t2405\t63\n",
      "10\t441\t45\n",
      "20\t42\t16\n",
      "50\t1\t1\n"
     ]
    }
   ],
   "source": [
    "print(f\"{len(all_sizes)} total clusters for fingerprint distance cutoff: {dist_cutoff}\")\n",
    "print()\n",
    "print(\"size_cutoff\\tnum_clusters\\tnum_comp_types_with_clust\")\n",
    "# get some statistics: \n",
    "clust_size_cutoffs = [1, 2, 3, 5, 10, 20, 50]\n",
    "for cutoff in clust_size_cutoffs:\n",
    "    num_gt_cutoff = 0\n",
    "    num_comp_types_with_a_clust = 0\n",
    "    for comp_type, clusters in all_clusters.items():\n",
    "        S = pd.Series(clusters)\n",
    "        sizes = S.value_counts()\n",
    "        num_gt_cutoff += len(sizes[sizes >= cutoff])\n",
    "        if len(sizes[sizes >= cutoff]) > 0:\n",
    "            num_comp_types_with_a_clust += 1\n",
    "#     print(f\"{num_comp_types_with_a_clust} have a cluster with size >= {cutoff}\")\n",
    "    print(f\"{cutoff}\\t{num_gt_cutoff}\\t{num_comp_types_with_a_clust}\")"
   ]
  },
  {
   "cell_type": "code",
   "execution_count": null,
   "id": "05b31e19-e690-421f-8ce3-fb2970cf7fd3",
   "metadata": {},
   "outputs": [],
   "source": []
  }
 ],
 "metadata": {
  "kernelspec": {
   "display_name": "Python 3 (ipykernel)",
   "language": "python",
   "name": "python3"
  },
  "language_info": {
   "codemirror_mode": {
    "name": "ipython",
    "version": 3
   },
   "file_extension": ".py",
   "mimetype": "text/x-python",
   "name": "python",
   "nbconvert_exporter": "python",
   "pygments_lexer": "ipython3",
   "version": "3.8.10"
  }
 },
 "nbformat": 4,
 "nbformat_minor": 5
}
