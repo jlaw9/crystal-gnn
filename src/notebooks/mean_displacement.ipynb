{
 "cells": [
  {
   "cell_type": "code",
   "execution_count": 175,
   "id": "d6a6dafb-4c53-48ec-a2ce-eaf5d2c4c60c",
   "metadata": {},
   "outputs": [
    {
     "name": "stdout",
     "output_type": "stream",
     "text": [
      "pandas version: 1.1.4\n",
      "numpy version: 1.21.0\n",
      "matplotlib version: 3.4.2\n",
      "seaborn version: 0.11.1\n"
     ]
    }
   ],
   "source": [
    "# modules for structure decoration\n",
    "import os\n",
    "import itertools\n",
    "from tqdm.notebook import tqdm\n",
    "import glob\n",
    "from glob import iglob\n",
    "from copy import deepcopy\n",
    "from collections import defaultdict\n",
    "import pandas as pd\n",
    "import numpy as np\n",
    "\n",
    "import matplotlib\n",
    "import matplotlib.pyplot as plt\n",
    "import seaborn as sns\n",
    "sns.set(context='talk', style='ticks',\n",
    "        color_codes=True, rc={'legend.frameon': False})\n",
    "print(f\"pandas version: {pd.__version__}\")\n",
    "print(f\"numpy version: {np.__version__}\")\n",
    "print(f\"matplotlib version: {matplotlib.__version__}\")\n",
    "print(f\"seaborn version: {sns.__version__}\")\n",
    "\n",
    "from pymatgen.core import Composition, Structure\n",
    "from pymatgen.analysis import local_env"
   ]
  },
  {
   "cell_type": "code",
   "execution_count": 70,
   "id": "ffd008cd-91f7-4be9-82ca-f1926fedbd26",
   "metadata": {},
   "outputs": [
    {
     "name": "stdout",
     "output_type": "stream",
     "text": [
      "/lustre/eaglefs/projects/rlmolecule/jlaw/crystal-gnn-fork\n"
     ]
    },
    {
     "name": "stderr",
     "output_type": "stream",
     "text": [
      "RDKit WARNING: [05:39:57] Enabling RDKit 2019.09.3 jupyter extensions\n"
     ]
    }
   ],
   "source": [
    "os.chdir('../../')\n",
    "print(os.getcwd())\n",
    "from src import utils\n",
    "import preprocess_crystals as preprocess"
   ]
  },
  {
   "cell_type": "code",
   "execution_count": 3,
   "id": "82dbeefe-a7de-4ffd-9319-02208b71e1d4",
   "metadata": {},
   "outputs": [
    {
     "name": "stderr",
     "output_type": "stream",
     "text": [
      "WARNING: pip is being invoked by an old script wrapper. This will fail in a future version of pip.\n",
      "Please see https://github.com/pypa/pip/issues/5599 for advice on fixing the underlying issue.\n",
      "To avoid this problem you can invoke Python with '-m pip' instead of running pip directly.\n"
     ]
    },
    {
     "name": "stdout",
     "output_type": "stream",
     "text": [
      "Name: pymatgen\n",
      "Version: 2022.0.8\n",
      "Summary: Python Materials Genomics is a robust materials analysis code that defines core object representations for structures and molecules with support for many electronic structure codes. It is currently the core analysis code powering the Materials Project (https://www.materialsproject.org).\n",
      "Home-page: http://www.pymatgen.org\n",
      "Author: Pymatgen Development Team\n",
      "Author-email: ongsp@eng.ucsd.edu\n",
      "License: MIT\n",
      "Location: /home/jlaw/.conda/envs/crystals/lib/python3.8/site-packages\n",
      "Requires: requests, ruamel.yaml, monty, numpy, networkx, scipy, sympy, plotly, uncertainties, tabulate, pandas, matplotlib, palettable, spglib\n",
      "Required-by: pyxtal\n"
     ]
    },
    {
     "data": {
      "text/plain": [
       "0"
      ]
     },
     "execution_count": 3,
     "metadata": {},
     "output_type": "execute_result"
    }
   ],
   "source": [
    "# print(f\"pymatgen version: {pymatgen.__version__}\")\n",
    "import pip\n",
    "pip.main([\"show\",\"pymatgen\"])"
   ]
  },
  {
   "cell_type": "markdown",
   "id": "aab00b37-057d-4433-a743-a397c7a2625b",
   "metadata": {},
   "source": [
    "## Mean Displacement\n"
   ]
  },
  {
   "cell_type": "code",
   "execution_count": 57,
   "id": "1f5c76a8-53fc-45c5-b2a1-2c7fcaf33b5c",
   "metadata": {},
   "outputs": [],
   "source": [
    "# Oops, the site coordinates are already the cartesian coordinates!\n",
    "# def convert_frac_to_cartesian_coords(site, latt_mat):\n",
    "#     \"\"\"\n",
    "#     Taken from here: https://www.vasp.at/wiki/index.php/POSCAR\n",
    "    \n",
    "#     :param site: pymatgen structure site with fractional coordinates\n",
    "#     :param latt_mat: pymatgen lattice matrix for the structure    \n",
    "#     \"\"\"\n",
    "    \n",
    "#     coords = (site.x * latt_mat[0]) + (site.y * latt_mat[1]) + (site.z * latt_mat[2])\n",
    "#     return np.asarray(coords)"
   ]
  },
  {
   "cell_type": "code",
   "execution_count": 163,
   "id": "af4e5a00-e1e6-4063-b66c-1b51b0d6585e",
   "metadata": {},
   "outputs": [],
   "source": [
    "def dist_from_unrel_to_relaxed(strc1, strc2):\n",
    "    \"\"\" Compute how much each atom moved after DFT relaxation. \n",
    "    For every point in strc1, it will compute the euclidean distance to the same site in strc2\n",
    "    \"\"\"\n",
    "    distances = []\n",
    "    latt_mat1 = strc1.lattice._matrix\n",
    "    latt_mat2 = strc2.lattice._matrix\n",
    "    for i, s1 in enumerate(strc1.sites):\n",
    "        s2 = strc2.sites[i]\n",
    "#         if fractional: \n",
    "        dist = np.linalg.norm(s1.coords - s2.coords)\n",
    "#         else:\n",
    "#             # convert the fractional corrdinates to cartesian\n",
    "#             s1_coords = convert_frac_to_cartesian_coords(s1, latt_mat1)\n",
    "#             s2_coords = convert_frac_to_cartesian_coords(s2, latt_mat2)\n",
    "#             # frobineus norm, which is:\n",
    "#             # np.sum((s1_coords - s2_coords)**2)**.5\n",
    "#             dist = np.linalg.norm(s1_coords - s2_coords)\n",
    "        distances.append(dist)\n",
    "        \n",
    "    return distances"
   ]
  },
  {
   "cell_type": "code",
   "execution_count": 109,
   "id": "82de5b05-1719-4bac-a265-36e88622bae2",
   "metadata": {},
   "outputs": [],
   "source": [
    "def dist_all_strcs(hypo_pred_df, unrelaxed_structures, relaxed_structures):\n",
    "    \"\"\"\n",
    "    :param hypo_pred_df: dataframe with the predicted energy per atom, and the DFT relaxed energy per atom\n",
    "    :param unrelaxed_structures: dictionary with the structure ID as the key and the pymatgen structure as the value\n",
    "    :param relaxed_structures: IDs must match the unrelaxed structures. Should have the structures after DFT relaxation\n",
    "    \"\"\"\n",
    "#     hypo_pred_df.energyperatom, \n",
    "#     hypo_pred_df.predicted_energyperatom, \n",
    "    distances = {}\n",
    "    for strc_id in hypo_pred_df.id:\n",
    "        unrel_strc = unrelaxed_structures[strc_id]\n",
    "        rel_strc = relaxed_structures[strc_id]\n",
    "        dist = dist_from_unrel_to_relaxed(unrel_strc, rel_strc)\n",
    "        distances[strc_id] = dist\n",
    "    return distances"
   ]
  },
  {
   "cell_type": "code",
   "execution_count": 79,
   "id": "d106bf5b-a1b0-4186-b55b-c0d4c4184a2e",
   "metadata": {},
   "outputs": [],
   "source": [
    "loaded_datasets = {}\n",
    "def load_datasets(config_map, experiment):\n",
    "    \"\"\" \n",
    "    \"\"\"\n",
    "    hypo_df = pd.DataFrame()\n",
    "    datasets = config_map['datasets']\n",
    "    unrel_name = [d for d in experiment['datasets'] if not datasets[d].get('relaxed', True)][0]\n",
    "    print(unrel_name)\n",
    "    rel_name = datasets[unrel_name]['relaxed_dataset']\n",
    "    \n",
    "    for dataset_name in [unrel_name, rel_name]:\n",
    "        dataset = datasets[dataset_name]\n",
    "        curr_df = loaded_datasets.get(dataset_name)\n",
    "        if curr_df is None:\n",
    "            curr_df = preprocess.load_hypothetical_structures(\n",
    "                dataset['relaxed_energies'], dataset['structures_file'])\n",
    "            # keep track of if these structures are relaxed or not\n",
    "            curr_df['relaxed'] = dataset['relaxed']\n",
    "\n",
    "        hypo_df = pd.concat([hypo_df, curr_df])\n",
    "        loaded_datasets[dataset_name] = curr_df\n",
    "    \n",
    "    return hypo_df"
   ]
  },
  {
   "cell_type": "code",
   "execution_count": 211,
   "id": "d88b5613-e469-4795-ae74-59444e225044",
   "metadata": {},
   "outputs": [],
   "source": [
    "def plot_err_by_dist(hypo_pred_df, unrel_to_rel_distances, exp_dir, out_dir=None):\n",
    "    mean_dist = {s: np.mean(d) for s, d in unrel_to_rel_distances.items()}\n",
    "    df = hypo_pred_df.set_index('id')\n",
    "    df['distances'] = pd.Series(mean_dist)\n",
    "    df['pred_err'] = abs(df['predicted_energyperatom'] - df['energyperatom'])\n",
    "#     df['pred_err'] = df['predicted_energyperatom'] - df['energyperatom']\n",
    "    \n",
    "    df[df['distances'] < 250].plot.scatter('distances', 'pred_err', s=2, alpha=.5)\n",
    "    plt.xlabel(\"Mean distance from unrelaxed to relaxed\")\n",
    "    if out_dir is not None:\n",
    "        out_file = f\"{out_dir}/{'_'.join(exp_dir.split('/')[-2:])}-scatter.svg\"\n",
    "        print(f\"writing {out_file}\")\n",
    "        plt.savefig(out_file, bbox_inches='tight')\n",
    "    plt.show()\n",
    "    plt.close()\n",
    "    \n",
    "    sns.jointplot(x='distances', y='pred_err', data=df,\n",
    "              xlim=(0,10), ylim=(0,.75), \n",
    "              kind='hex', #color=\"#4CB391\",\n",
    "             )\n",
    "    if out_dir is not None:\n",
    "        out_file = f\"{out_dir}/{'_'.join(exp_dir.split('/')[-2:])}-hex.svg\"\n",
    "        plt.savefig(out_file, bbox_inches='tight')\n",
    "    plt.show()\n",
    "    plt.close()"
   ]
  },
  {
   "cell_type": "code",
   "execution_count": 164,
   "id": "2d9eb58d-589b-46fd-b72d-ad2cdbd073c8",
   "metadata": {},
   "outputs": [
    {
     "name": "stdout",
     "output_type": "stream",
     "text": [
      "Loading config file 'config/battery-unrelaxed.yaml'\n",
      "4 experiments. Just running the first one\n",
      "{'datasets': ['icsd', 'battery_unrelaxed'], 'eval_settings': {'icsd_lattice': 'orig', 'hypo_lattice': 'orig', 'icsd': {'random_subset': 0.05}, 'hypo': 'leave_out_comp', 'seed': 2}}\n",
      "battery_unrelaxed\n",
      "   comp_type composition                            id  energyperatom  \\\n",
      "0        112    Mg2Cl1P1    Mg2Cl1P1_sg2_icsd_035676_1      -3.527097   \n",
      "1        112    Mg2Cl1P1   Mg2Cl1P1_sg55_icsd_642437_1      -3.365935   \n",
      "2        112    Mg2Cl1P1  Mg2Cl1P1_sg194_icsd_061381_1      -3.562473   \n",
      "3        112    Mg2Cl1P1   Mg2Cl1P1_sg53_icsd_071063_1      -3.233444   \n",
      "4        112    Mg2Cl1P1  Mg2Cl1P1_sg146_icsd_174547_1      -3.551902   \n",
      "\n",
      "                                             crystal  relaxed  \n",
      "0  [[2.82317897 6.59904178 1.05322086] Cl, [9.969...    False  \n",
      "1  [[6.0667  2.76115 2.25676] Cl, [4.2333  8.5088...    False  \n",
      "2  [[8.79887274e-17 3.17222275e+00 3.75750000e+00...    False  \n",
      "3  [[3.9485    2.7480856 2.211027 ] Cl, [3.9485  ...    False  \n",
      "4  [[0. 0. 0.] P, [1.73945174 1.004271   6.228693...    False  \n",
      "     comp_type composition                            id  energyperatom  \\\n",
      "822      112.0    Zn1Hg1S2    Zn1Hg1S2_sg2_icsd_035676_1      -2.830039   \n",
      "823      112.0    Zn1Hg1S2  Zn1Hg1S2_sg194_icsd_061381_1      -2.790234   \n",
      "824      112.0    Zn1Hg1S2   Zn1Hg1S2_sg53_icsd_071063_1      -2.689005   \n",
      "825      112.0    Zn1Hg1S2  Zn1Hg1S2_sg146_icsd_174547_1      -2.734635   \n",
      "826      112.0    Zn1Hg1S2  Zn1Hg1S2_sg113_icsd_160121_1      -2.636409   \n",
      "\n",
      "     predicted_energyperatom  \n",
      "822                -2.683187  \n",
      "823                -2.468518  \n",
      "824                -2.666391  \n",
      "825                -2.762897  \n",
      "826                -2.620141  \n"
     ]
    }
   ],
   "source": [
    "# for config_file in ['config/battery-unrelaxed.yaml']:\n",
    "#     config_map = utils.load_config_file(config_file)\n",
    "#     unrel_to_rel_distances, hypo_pred_df = main(config_map)"
   ]
  },
  {
   "cell_type": "code",
   "execution_count": 196,
   "id": "a97821cd-396e-4ee7-8ad0-29b12b988952",
   "metadata": {},
   "outputs": [
    {
     "data": {
      "text/plain": [
       "<AxesSubplot:>"
      ]
     },
     "execution_count": 196,
     "metadata": {},
     "output_type": "execute_result"
    },
    {
     "data": {
      "image/png": "[encoded data removed]",
      "text/plain": [
       "<Figure size 432x288 with 1 Axes>"
      ]
     },
     "metadata": {},
     "output_type": "display_data"
    }
   ],
   "source": [
    "mean_dist = {s: np.mean(d) for s, d in unrel_to_rel_distances.items()}\n",
    "S_mean = pd.Series(mean_dist.values())\n",
    "S_mean.hist(bins=20)"
   ]
  },
  {
   "cell_type": "code",
   "execution_count": 167,
   "id": "ec9e6e01-2537-482b-89bb-475aa6b7a556",
   "metadata": {},
   "outputs": [
    {
     "data": {
      "text/plain": [
       "<AxesSubplot:>"
      ]
     },
     "execution_count": 167,
     "metadata": {},
     "output_type": "execute_result"
    },
    {
     "data": {
      "image/png": "[encoded data removed]",
      "text/plain": [
       "<Figure size 432x288 with 1 Axes>"
      ]
     },
     "metadata": {
      "needs_background": "light"
     },
     "output_type": "display_data"
    }
   ],
   "source": [
    "mean_dist = {s: np.median(d) for s, d in unrel_to_rel_distances.items()}\n",
    "S_mean = pd.Series(mean_dist.values())\n",
    "S_mean.hist(bins=20)"
   ]
  },
  {
   "cell_type": "code",
   "execution_count": 197,
   "id": "1bfdd3a3-897c-4cf1-bb16-7ed995b86abe",
   "metadata": {},
   "outputs": [
    {
     "data": {
      "text/html": [
       "<div>\n",
       "<style scoped>\n",
       "    .dataframe tbody tr th:only-of-type {\n",
       "        vertical-align: middle;\n",
       "    }\n",
       "\n",
       "    .dataframe tbody tr th {\n",
       "        vertical-align: top;\n",
       "    }\n",
       "\n",
       "    .dataframe thead th {\n",
       "        text-align: right;\n",
       "    }\n",
       "</style>\n",
       "<table border=\"1\" class=\"dataframe\">\n",
       "  <thead>\n",
       "    <tr style=\"text-align: right;\">\n",
       "      <th></th>\n",
       "      <th>comp_type</th>\n",
       "      <th>composition</th>\n",
       "      <th>energyperatom</th>\n",
       "      <th>predicted_energyperatom</th>\n",
       "      <th>distances</th>\n",
       "      <th>pred_err</th>\n",
       "    </tr>\n",
       "    <tr>\n",
       "      <th>id</th>\n",
       "      <th></th>\n",
       "      <th></th>\n",
       "      <th></th>\n",
       "      <th></th>\n",
       "      <th></th>\n",
       "      <th></th>\n",
       "    </tr>\n",
       "  </thead>\n",
       "  <tbody>\n",
       "    <tr>\n",
       "      <th>Zn1Hg1S2_sg2_icsd_035676_1</th>\n",
       "      <td>112.0</td>\n",
       "      <td>Zn1Hg1S2</td>\n",
       "      <td>-2.830039</td>\n",
       "      <td>-2.683187</td>\n",
       "      <td>2.702001</td>\n",
       "      <td>0.146852</td>\n",
       "    </tr>\n",
       "    <tr>\n",
       "      <th>Zn1Hg1S2_sg194_icsd_061381_1</th>\n",
       "      <td>112.0</td>\n",
       "      <td>Zn1Hg1S2</td>\n",
       "      <td>-2.790234</td>\n",
       "      <td>-2.468518</td>\n",
       "      <td>7.221195</td>\n",
       "      <td>0.321716</td>\n",
       "    </tr>\n",
       "    <tr>\n",
       "      <th>Zn1Hg1S2_sg53_icsd_071063_1</th>\n",
       "      <td>112.0</td>\n",
       "      <td>Zn1Hg1S2</td>\n",
       "      <td>-2.689005</td>\n",
       "      <td>-2.666391</td>\n",
       "      <td>1.867707</td>\n",
       "      <td>0.022614</td>\n",
       "    </tr>\n",
       "    <tr>\n",
       "      <th>Zn1Hg1S2_sg146_icsd_174547_1</th>\n",
       "      <td>112.0</td>\n",
       "      <td>Zn1Hg1S2</td>\n",
       "      <td>-2.734635</td>\n",
       "      <td>-2.762897</td>\n",
       "      <td>2.457369</td>\n",
       "      <td>0.028263</td>\n",
       "    </tr>\n",
       "    <tr>\n",
       "      <th>Zn1Hg1S2_sg113_icsd_160121_1</th>\n",
       "      <td>112.0</td>\n",
       "      <td>Zn1Hg1S2</td>\n",
       "      <td>-2.636409</td>\n",
       "      <td>-2.620141</td>\n",
       "      <td>3.635054</td>\n",
       "      <td>0.016268</td>\n",
       "    </tr>\n",
       "  </tbody>\n",
       "</table>\n",
       "</div>"
      ],
      "text/plain": [
       "                              comp_type composition  energyperatom  \\\n",
       "id                                                                   \n",
       "Zn1Hg1S2_sg2_icsd_035676_1        112.0    Zn1Hg1S2      -2.830039   \n",
       "Zn1Hg1S2_sg194_icsd_061381_1      112.0    Zn1Hg1S2      -2.790234   \n",
       "Zn1Hg1S2_sg53_icsd_071063_1       112.0    Zn1Hg1S2      -2.689005   \n",
       "Zn1Hg1S2_sg146_icsd_174547_1      112.0    Zn1Hg1S2      -2.734635   \n",
       "Zn1Hg1S2_sg113_icsd_160121_1      112.0    Zn1Hg1S2      -2.636409   \n",
       "\n",
       "                              predicted_energyperatom  distances  pred_err  \n",
       "id                                                                          \n",
       "Zn1Hg1S2_sg2_icsd_035676_1                  -2.683187   2.702001  0.146852  \n",
       "Zn1Hg1S2_sg194_icsd_061381_1                -2.468518   7.221195  0.321716  \n",
       "Zn1Hg1S2_sg53_icsd_071063_1                 -2.666391   1.867707  0.022614  \n",
       "Zn1Hg1S2_sg146_icsd_174547_1                -2.762897   2.457369  0.028263  \n",
       "Zn1Hg1S2_sg113_icsd_160121_1                -2.620141   3.635054  0.016268  "
      ]
     },
     "execution_count": 197,
     "metadata": {},
     "output_type": "execute_result"
    }
   ],
   "source": [
    "# now plot the mean distance vs error\n",
    "df = hypo_pred_df.set_index('id')\n",
    "df['distances'] = pd.Series(mean_dist)\n",
    "df['pred_err'] = abs(df['predicted_energyperatom'] - df['energyperatom'])\n",
    "df.head()"
   ]
  },
  {
   "cell_type": "code",
   "execution_count": 202,
   "id": "730c83df-042a-4efc-93d0-7807aa8b6b62",
   "metadata": {},
   "outputs": [
    {
     "name": "stderr",
     "output_type": "stream",
     "text": [
      "WARNING: *c* argument looks like a single numeric RGB or RGBA sequence, which should be avoided as value-mapping will have precedence in case its length matches with *x* & *y*.  Please use the *color* keyword-argument or provide a 2D array with a single row if you intend to specify the same RGB or RGBA value for all points.\n"
     ]
    },
    {
     "data": {
      "text/plain": [
       "Text(0.5, 0, 'Mean distance from unrelaxed to relaxed')"
      ]
     },
     "execution_count": 202,
     "metadata": {},
     "output_type": "execute_result"
    },
    {
     "data": {
      "image/png": "[encoded data removed]",
      "text/plain": [
       "<Figure size 432x288 with 1 Axes>"
      ]
     },
     "metadata": {},
     "output_type": "display_data"
    }
   ],
   "source": [
    "df[df['distances'] < 250].plot.scatter('distances', 'pred_err', s=2, alpha=.5)\n",
    "plt.xlabel(\"Mean distance from unrelaxed to relaxed\")"
   ]
  },
  {
   "cell_type": "code",
   "execution_count": 203,
   "id": "fa807fb4-414e-4e6a-a7d7-3d5964b89628",
   "metadata": {},
   "outputs": [
    {
     "data": {
      "text/plain": [
       "<seaborn.axisgrid.JointGrid at 0x7fc531a0f7f0>"
      ]
     },
     "execution_count": 203,
     "metadata": {},
     "output_type": "execute_result"
    },
    {
     "data": {
      "image/png": "[encoded data removed]",
      "text/plain": [
       "<Figure size 432x432 with 3 Axes>"
      ]
     },
     "metadata": {},
     "output_type": "display_data"
    }
   ],
   "source": [
    "sns.jointplot(x='distances', y='pred_err', data=df,\n",
    "              xlim=(0,10), ylim=(0,.75), \n",
    "              kind='hex', #color=\"#4CB391\",\n",
    "             )"
   ]
  }
 ],
 "metadata": {
  "kernelspec": {
   "display_name": "Python 3",
   "language": "python",
   "name": "python3"
  },
  "language_info": {
   "codemirror_mode": {
    "name": "ipython",
    "version": 3
   },
   "file_extension": ".py",
   "mimetype": "text/x-python",
   "name": "python",
   "nbconvert_exporter": "python",
   "pygments_lexer": "ipython3",
   "version": "3.8.10"
  }
 },
 "nbformat": 4,
 "nbformat_minor": 5
}
