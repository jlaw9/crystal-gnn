{
 "cells": [
  {
   "cell_type": "code",
   "execution_count": 1,
   "id": "cc5fb708-ae83-4632-a578-ec4daf5079dc",
   "metadata": {},
   "outputs": [],
   "source": [
    "# modules for structure decoration\n",
    "import pandas as pd\n",
    "import os\n",
    "import itertools\n",
    "from tqdm.notebook import tqdm\n",
    "import networkx as nx\n",
    "import glob\n",
    "from glob import iglob\n",
    "from copy import deepcopy\n",
    "from collections import defaultdict\n",
    "\n",
    "from pymatgen.core import Composition, Structure\n",
    "from pymatgen.analysis import local_env"
   ]
  },
  {
   "cell_type": "code",
   "execution_count": 2,
   "id": "05b6d8d2-da8d-4a64-af81-155eee556cc6",
   "metadata": {},
   "outputs": [
    {
     "name": "stderr",
     "output_type": "stream",
     "text": [
      "WARNING: pip is being invoked by an old script wrapper. This will fail in a future version of pip.\n",
      "Please see https://github.com/pypa/pip/issues/5599 for advice on fixing the underlying issue.\n",
      "To avoid this problem you can invoke Python with '-m pip' instead of running pip directly.\n"
     ]
    },
    {
     "name": "stdout",
     "output_type": "stream",
     "text": [
      "Name: pymatgen\n",
      "Version: 2022.0.8\n",
      "Summary: Python Materials Genomics is a robust materials analysis code that defines core object representations for structures and molecules with support for many electronic structure codes. It is currently the core analysis code powering the Materials Project (https://www.materialsproject.org).\n",
      "Home-page: http://www.pymatgen.org\n",
      "Author: Pymatgen Development Team\n",
      "Author-email: ongsp@eng.ucsd.edu\n",
      "License: MIT\n",
      "Location: /home/jlaw/.conda/envs/crystals/lib/python3.8/site-packages\n",
      "Requires: networkx, numpy, tabulate, plotly, palettable, spglib, monty, requests, matplotlib, uncertainties, scipy, sympy, pandas, ruamel.yaml\n",
      "Required-by: pyxtal\n"
     ]
    },
    {
     "data": {
      "text/plain": [
       "0"
      ]
     },
     "execution_count": 2,
     "metadata": {},
     "output_type": "execute_result"
    }
   ],
   "source": [
    "# print(f\"pymatgen version: {pymatgen.__version__}\")\n",
    "import pip\n",
    "pip.main([\"show\",\"pymatgen\"])"
   ]
  },
  {
   "cell_type": "code",
   "execution_count": 3,
   "id": "3140f656-8f93-4151-b42b-2815b5a63ca3",
   "metadata": {},
   "outputs": [
    {
     "data": {
      "text/plain": [
       "'/home/jlaw/projects/arpa-e/crystals/crystal-gnn-fork'"
      ]
     },
     "execution_count": 3,
     "metadata": {},
     "output_type": "execute_result"
    }
   ],
   "source": [
    "os.chdir('..')\n",
    "os.getcwd()"
   ]
  },
  {
   "cell_type": "code",
   "execution_count": 4,
   "id": "ce0ad76d-6d2d-4427-89c9-d59f26a2b0a8",
   "metadata": {},
   "outputs": [],
   "source": [
    "base_dir = \"/projects/rlmolecule/shubham/file_transfer/decorations/relaxed\"\n",
    "icsd_structures_file = f\"{base_dir}/icsd/icsd_energies.csv\"\n",
    "# hypothetical_structures_file = f\"{base_dir}/{hypo_type}_hypotheticals/relaxed_energies.csv\"\n",
    "\n",
    "# Read energy data\n",
    "icsd_df = pd.read_csv(icsd_structures_file)"
   ]
  },
  {
   "cell_type": "code",
   "execution_count": 5,
   "id": "6735afb2-dc1a-4d88-8361-ca153c237e60",
   "metadata": {},
   "outputs": [
    {
     "data": {
      "text/html": [
       "<div>\n",
       "<style scoped>\n",
       "    .dataframe tbody tr th:only-of-type {\n",
       "        vertical-align: middle;\n",
       "    }\n",
       "\n",
       "    .dataframe tbody tr th {\n",
       "        vertical-align: top;\n",
       "    }\n",
       "\n",
       "    .dataframe thead th {\n",
       "        text-align: right;\n",
       "    }\n",
       "</style>\n",
       "<table border=\"1\" class=\"dataframe\">\n",
       "  <thead>\n",
       "    <tr style=\"text-align: right;\">\n",
       "      <th></th>\n",
       "      <th>composition</th>\n",
       "      <th>id</th>\n",
       "      <th>energyperatom</th>\n",
       "    </tr>\n",
       "  </thead>\n",
       "  <tbody>\n",
       "    <tr>\n",
       "      <th>0</th>\n",
       "      <td>Hf1N1</td>\n",
       "      <td>icsd_183420</td>\n",
       "      <td>-9.854916</td>\n",
       "    </tr>\n",
       "    <tr>\n",
       "      <th>1</th>\n",
       "      <td>Hf1N1</td>\n",
       "      <td>icsd_183419</td>\n",
       "      <td>-9.854908</td>\n",
       "    </tr>\n",
       "    <tr>\n",
       "      <th>2</th>\n",
       "      <td>Hf3N4</td>\n",
       "      <td>icsd_097997</td>\n",
       "      <td>-9.821796</td>\n",
       "    </tr>\n",
       "    <tr>\n",
       "      <th>3</th>\n",
       "      <td>Hf1N1</td>\n",
       "      <td>icsd_167875</td>\n",
       "      <td>-9.663267</td>\n",
       "    </tr>\n",
       "    <tr>\n",
       "      <th>4</th>\n",
       "      <td>Hf1O2</td>\n",
       "      <td>icsd_060903</td>\n",
       "      <td>-9.624780</td>\n",
       "    </tr>\n",
       "  </tbody>\n",
       "</table>\n",
       "</div>"
      ],
      "text/plain": [
       "  composition           id  energyperatom\n",
       "0       Hf1N1  icsd_183420      -9.854916\n",
       "1       Hf1N1  icsd_183419      -9.854908\n",
       "2       Hf3N4  icsd_097997      -9.821796\n",
       "3       Hf1N1  icsd_167875      -9.663267\n",
       "4       Hf1O2  icsd_060903      -9.624780"
      ]
     },
     "execution_count": 5,
     "metadata": {},
     "output_type": "execute_result"
    }
   ],
   "source": [
    "icsd_df.head()"
   ]
  },
  {
   "cell_type": "code",
   "execution_count": 6,
   "id": "cf0c0e26-8f32-42ba-8379-40005c1bd9eb",
   "metadata": {},
   "outputs": [
    {
     "data": {
      "text/plain": [
       "16445"
      ]
     },
     "execution_count": 6,
     "metadata": {},
     "output_type": "execute_result"
    }
   ],
   "source": [
    "icsd_df.id.nunique()"
   ]
  },
  {
   "cell_type": "code",
   "execution_count": 8,
   "id": "d4d3b8e9-71e5-432f-9b7e-b237a035e423",
   "metadata": {},
   "outputs": [
    {
     "data": {
      "application/vnd.jupyter.widget-view+json": {
       "model_id": "51037775ad84473ea281afaea45ce0f0",
       "version_major": 2,
       "version_minor": 0
      },
      "text/plain": [
       "  0%|          | 0/16445 [00:00<?, ?it/s]"
      ]
     },
     "metadata": {},
     "output_type": "display_data"
    },
    {
     "name": "stderr",
     "output_type": "stream",
     "text": [
      "/home/jlaw/.conda/envs/crystals/lib/python3.8/site-packages/pymatgen/io/cif.py:1121: UserWarning: Issues encountered while parsing CIF: Structure has implicit hydrogens defined, parsed structure unlikely to be suitable for use in calculations unless hydrogens added.\n",
      "  warnings.warn(\"Issues encountered while parsing CIF: %s\" % \"\\n\".join(self.warnings))\n"
     ]
    }
   ],
   "source": [
    "structures = {}\n",
    "for icsd_strc_file in tqdm(glob.glob(f\"{base_dir}/icsd/structures/*.cif\")):\n",
    "    struc = Structure.from_file(icsd_strc_file, primitive=True)\n",
    "    structures[icsd_strc_file.replace('.cif','')] = struc.as_dict()"
   ]
  },
  {
   "cell_type": "code",
   "execution_count": 12,
   "id": "2ab154f2-2b67-4196-8755-a580a189b6fa",
   "metadata": {},
   "outputs": [
    {
     "name": "stdout",
     "output_type": "stream",
     "text": [
      "['icsd_085777', 'icsd_173786', 'icsd_056827', 'icsd_078912', 'icsd_076029', 'icsd_072295', 'icsd_076967', 'icsd_000429', 'icsd_279616', 'icsd_624016']\n"
     ]
    }
   ],
   "source": [
    "structures = {os.path.basename(key): val for key, val in structures.items()}\n",
    "print(list(structures.keys())[:10])"
   ]
  },
  {
   "cell_type": "code",
   "execution_count": 13,
   "id": "10b4dbc5-46ea-4638-bca3-25ac5b66f65e",
   "metadata": {},
   "outputs": [],
   "source": [
    "working_dir = \"inputs\"\n",
    "os.makedirs(working_dir, exist_ok=True)"
   ]
  },
  {
   "cell_type": "code",
   "execution_count": 14,
   "id": "97975c6b-f284-44d7-acab-6c925e19367b",
   "metadata": {},
   "outputs": [],
   "source": [
    "# now store them in a single file\n",
    "import json\n",
    "import gzip\n",
    "\n",
    "# https://pymatgen.org/usage.html#side-note-as-dict-from-dict\n",
    "out_file = f\"{working_dir}/icsd_structures.json.gz\"\n",
    "with gzip.open(out_file, 'w') as out:\n",
    "    out.write(json.dumps(structures, indent=2).encode())"
   ]
  },
  {
   "cell_type": "code",
   "execution_count": 15,
   "id": "52f2c33f-8de5-4ca8-86d4-7486f365954e",
   "metadata": {},
   "outputs": [],
   "source": [
    "# read them back\n",
    "with gzip.open(out_file, 'r') as f:\n",
    "    structures_dict = json.loads(f.read().decode())\n",
    "\n",
    "new_structures = {}\n",
    "for key, structure_dict in structures_dict.items():\n",
    "    new_structures[key] = Structure.from_dict(structure_dict)"
   ]
  },
  {
   "cell_type": "code",
   "execution_count": 20,
   "id": "887349cc-b0cb-4d39-9226-fa52d7c70d1c",
   "metadata": {},
   "outputs": [
    {
     "name": "stdout",
     "output_type": "stream",
     "text": [
      "zintl relaxed\n"
     ]
    },
    {
     "data": {
      "application/vnd.jupyter.widget-view+json": {
       "model_id": "834dbbe3f1874c3fb1b647e2d3e2d0f0",
       "version_major": 2,
       "version_minor": 0
      },
      "text/plain": [
       "  0%|          | 0/11028 [00:00<?, ?it/s]"
      ]
     },
     "metadata": {},
     "output_type": "display_data"
    },
    {
     "name": "stdout",
     "output_type": "stream",
     "text": [
      "writing to inputs/zintl_relaxed_structures.json.gz\n",
      "zintl unrelaxed\n"
     ]
    },
    {
     "data": {
      "application/vnd.jupyter.widget-view+json": {
       "model_id": "3c1a132974f042d196820967da5e793f",
       "version_major": 2,
       "version_minor": 0
      },
      "text/plain": [
       "  0%|          | 0/11028 [00:00<?, ?it/s]"
      ]
     },
     "metadata": {},
     "output_type": "display_data"
    },
    {
     "name": "stdout",
     "output_type": "stream",
     "text": [
      "writing to inputs/zintl_unrelaxed_structures.json.gz\n",
      "battery relaxed\n"
     ]
    },
    {
     "data": {
      "application/vnd.jupyter.widget-view+json": {
       "model_id": "903f65ae1cc046499d2e2576172cfdc4",
       "version_major": 2,
       "version_minor": 0
      },
      "text/plain": [
       "  0%|          | 0/67840 [00:00<?, ?it/s]"
      ]
     },
     "metadata": {},
     "output_type": "display_data"
    },
    {
     "name": "stdout",
     "output_type": "stream",
     "text": [
      "writing to inputs/battery_relaxed_structures.json.gz\n",
      "battery unrelaxed\n"
     ]
    },
    {
     "data": {
      "application/vnd.jupyter.widget-view+json": {
       "model_id": "48c2526683484728936f43a1ca56e461",
       "version_major": 2,
       "version_minor": 0
      },
      "text/plain": [
       "  0%|          | 0/67840 [00:00<?, ?it/s]"
      ]
     },
     "metadata": {},
     "output_type": "display_data"
    },
    {
     "name": "stdout",
     "output_type": "stream",
     "text": [
      "writing to inputs/battery_unrelaxed_structures.json.gz\n"
     ]
    }
   ],
   "source": [
    "# now do the same thing for the unrelaxed and relaxed structures\n",
    "for hypo_type in ('zintl', 'battery'):\n",
    "    for dft_status in ('relaxed', 'unrelaxed'):\n",
    "        print(hypo_type, dft_status)\n",
    "        structures = {}\n",
    "        file_type = \"CONTCAR\" if hypo_type == \"battery\" and dft_status == \"relaxed\" else \"POSCAR\"\n",
    "        search_str = f\"{base_dir}/{hypo_type}_hypotheticals/{dft_status}_original/{file_type}_*\"\n",
    "        for strc_file in tqdm(glob.glob(search_str)):\n",
    "            struc = Structure.from_file(strc_file, primitive=True)\n",
    "            strc_id = os.path.basename(strc_file).replace(file_type+\"_\",\"\")\n",
    "            structures[strc_id] = struc.as_dict()\n",
    "            \n",
    "        out_file = f\"{working_dir}/{hypo_type}_{dft_status}_structures.json.gz\"\n",
    "        print(f\"writing to {out_file}\")\n",
    "        with gzip.open(out_file, 'w') as out:\n",
    "            out.write(json.dumps(structures, indent=2).encode())"
   ]
  }
 ],
 "metadata": {
  "kernelspec": {
   "display_name": "Python 3",
   "language": "python",
   "name": "python3"
  },
  "language_info": {
   "codemirror_mode": {
    "name": "ipython",
    "version": 3
   },
   "file_extension": ".py",
   "mimetype": "text/x-python",
   "name": "python",
   "nbconvert_exporter": "python",
   "pygments_lexer": "ipython3",
   "version": "3.8.10"
  }
 },
 "nbformat": 4,
 "nbformat_minor": 5
}
