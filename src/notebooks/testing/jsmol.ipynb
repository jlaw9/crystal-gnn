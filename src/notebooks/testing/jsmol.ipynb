{
 "cells": [
  {
   "cell_type": "code",
   "execution_count": 1,
   "id": "cb54b7a0-a98d-42ea-bc83-4a38745b2dcc",
   "metadata": {},
   "outputs": [
    {
     "name": "stdout",
     "output_type": "stream",
     "text": [
      "  % Total    % Received % Xferd  Average Speed   Time    Time     Time  Current\n",
      "                                 Dload  Upload   Total   Spent    Left  Speed\n",
      "100  1245  100  1245    0     0   5447      0 --:--:-- --:--:-- --:--:--  5436\n"
     ]
    },
    {
     "data": {
      "application/vnd.jupyter.widget-view+json": {
       "model_id": "b4251423d7004dc39876a9c73b9faa31",
       "version_major": 2,
       "version_minor": 0
      },
      "text/plain": [
       "JsmolView(layout=Layout(align_self='stretch', height='400px'))"
      ]
     },
     "metadata": {},
     "output_type": "display_data"
    }
   ],
   "source": [
    "from jupyter_jsmol import JsmolView\n",
    "from ipywidgets import Layout, widgets, interact\n",
    "!curl -OL https://raw.githubusercontent.com/fekad/jupyter-jsmol/master/examples/data/c2h410.xyz\n",
    "view1 = JsmolView.from_file(\"c2h410.xyz\") \n",
    "# view1 = JsmolView.from_file(\"data/c2h410.xyz\", inline=False) \n",
    "view1"
   ]
  },
  {
   "cell_type": "code",
   "execution_count": 2,
   "id": "c8720ea6-f768-44ae-895c-f7d98568eec6",
   "metadata": {},
   "outputs": [],
   "source": [
    "from pymatgen.core import Structure\n",
    "from jupyter_jsmol import pymatgen as js_pymatgen"
   ]
  },
  {
   "cell_type": "code",
   "execution_count": 3,
   "id": "189a1dab-c2b9-40e0-9e92-a2d23e708c92",
   "metadata": {},
   "outputs": [],
   "source": [
    "strc = Structure.from_file(\"/projects/rlmolecule/jlaw/projects/cgcnn/root_dir/structures/icsd_000008.cif\")"
   ]
  },
  {
   "cell_type": "code",
   "execution_count": 4,
   "id": "12fa11e2-8b59-41be-b7da-15a3155740f0",
   "metadata": {},
   "outputs": [
    {
     "data": {
      "application/vnd.jupyter.widget-view+json": {
       "model_id": "6c4c99538b4e469eb65ffc2800d844c3",
       "version_major": 2,
       "version_minor": 0
      },
      "text/plain": [
       "JsmolView(layout=Layout(align_self='stretch', height='400px'))"
      ]
     },
     "metadata": {},
     "output_type": "display_data"
    }
   ],
   "source": [
    "js_pymatgen.quick_view(strc)"
   ]
  }
 ],
 "metadata": {
  "kernelspec": {
   "display_name": "Python 3 (ipykernel)",
   "language": "python",
   "name": "python3"
  },
  "language_info": {
   "codemirror_mode": {
    "name": "ipython",
    "version": 3
   },
   "file_extension": ".py",
   "mimetype": "text/x-python",
   "name": "python",
   "nbconvert_exporter": "python",
   "pygments_lexer": "ipython3",
   "version": "3.8.10"
  },
  "toc-autonumbering": false,
  "toc-showcode": false,
  "toc-showmarkdowntxt": false,
  "toc-showtags": false
 },
 "nbformat": 4,
 "nbformat_minor": 5
}
