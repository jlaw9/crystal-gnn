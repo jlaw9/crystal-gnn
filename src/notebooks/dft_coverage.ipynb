{
 "cells": [
  {
   "cell_type": "markdown",
   "id": "1b3362c5-3675-48da-8cd2-ca4c4495513a",
   "metadata": {},
   "source": [
    "## Explore DFT relaxation space\n",
    "- How much of the potential 15M battery structures have been relaxed so far?\n",
    "- What does the coverage look like?"
   ]
  },
  {
   "cell_type": "code",
   "execution_count": 1,
   "id": "43b7109f-a25a-4621-91eb-f445adbca67c",
   "metadata": {},
   "outputs": [
    {
     "data": {
      "text/plain": [
       "'/lustre/eaglefs/projects/rlmolecule/jlaw/crystal-gnn-fork/src'"
      ]
     },
     "execution_count": 1,
     "metadata": {},
     "output_type": "execute_result"
    }
   ],
   "source": [
    "import os\n",
    "os.chdir('../')\n",
    "os.getcwd()"
   ]
  },
  {
   "cell_type": "code",
   "execution_count": 2,
   "id": "5f548dd2-f94b-4862-8ee2-8296443367a1",
   "metadata": {},
   "outputs": [
    {
     "name": "stderr",
     "output_type": "stream",
     "text": [
      "RDKit WARNING: [10:25:34] Enabling RDKit 2019.09.3 jupyter extensions\n"
     ]
    }
   ],
   "source": [
    "import tensorflow as tf\n",
    "import tensorflow_addons as tfa\n",
    "import nfp\n",
    "from nfp_extensions import RBFExpansion, CifPreprocessor\n",
    "from tqdm.notebook import tqdm\n",
    "from pymatgen.core import Structure\n",
    "import pandas as pd\n",
    "import numpy as np\n",
    "\n",
    "from pymatgen.core import Composition"
   ]
  },
  {
   "cell_type": "code",
   "execution_count": 3,
   "id": "37bae0f5-4d80-447e-ba5b-a5f45a4c0014",
   "metadata": {},
   "outputs": [
    {
     "name": "stdout",
     "output_type": "stream",
     "text": [
      "pandas version: 1.1.4\n",
      "numpy version: 1.21.0\n"
     ]
    }
   ],
   "source": [
    "print(f'pandas version: {pd.__version__}')\n",
    "print(f'numpy version: {np.__version__}')"
   ]
  },
  {
   "cell_type": "code",
   "execution_count": 5,
   "id": "020912f3-3278-49a4-ad08-054aec9f9041",
   "metadata": {},
   "outputs": [],
   "source": [
    "import gzip\n",
    "import json\n",
    "def read_structures_file(structures_file):\n",
    "    print(f\"reading {structures_file}\")\n",
    "    with gzip.open(structures_file, 'r') as f:\n",
    "        structures_dict = json.loads(f.read().decode())\n",
    "    structures = {}\n",
    "    for key, structure_dict in structures_dict.items():\n",
    "        structures[key] = Structure.from_dict(structure_dict)\n",
    "    print(f\"\\t{len(structures)} structures read\")\n",
    "    return structures"
   ]
  },
  {
   "cell_type": "code",
   "execution_count": 11,
   "id": "1c67e6ac-1532-479b-9b4b-533f7d2c6dc1",
   "metadata": {},
   "outputs": [
    {
     "data": {
      "text/html": [
       "<div>\n",
       "<style scoped>\n",
       "    .dataframe tbody tr th:only-of-type {\n",
       "        vertical-align: middle;\n",
       "    }\n",
       "\n",
       "    .dataframe tbody tr th {\n",
       "        vertical-align: top;\n",
       "    }\n",
       "\n",
       "    .dataframe thead th {\n",
       "        text-align: right;\n",
       "    }\n",
       "</style>\n",
       "<table border=\"1\" class=\"dataframe\">\n",
       "  <thead>\n",
       "    <tr style=\"text-align: right;\">\n",
       "      <th></th>\n",
       "      <th>comp_type</th>\n",
       "      <th>composition</th>\n",
       "      <th>id</th>\n",
       "      <th>energyperatom</th>\n",
       "    </tr>\n",
       "  </thead>\n",
       "  <tbody>\n",
       "    <tr>\n",
       "      <th>0</th>\n",
       "      <td>112</td>\n",
       "      <td>Mg2Cl1P1</td>\n",
       "      <td>Mg2Cl1P1_sg2_icsd_035676_1</td>\n",
       "      <td>-3.527097</td>\n",
       "    </tr>\n",
       "    <tr>\n",
       "      <th>1</th>\n",
       "      <td>112</td>\n",
       "      <td>Mg2Cl1P1</td>\n",
       "      <td>Mg2Cl1P1_sg55_icsd_642437_1</td>\n",
       "      <td>-3.365935</td>\n",
       "    </tr>\n",
       "  </tbody>\n",
       "</table>\n",
       "</div>"
      ],
      "text/plain": [
       "   comp_type composition                           id  energyperatom\n",
       "0        112    Mg2Cl1P1   Mg2Cl1P1_sg2_icsd_035676_1      -3.527097\n",
       "1        112    Mg2Cl1P1  Mg2Cl1P1_sg55_icsd_642437_1      -3.365935"
      ]
     },
     "execution_count": 11,
     "metadata": {},
     "output_type": "execute_result"
    }
   ],
   "source": [
    "# first check to see how much of the crystal space is covered by the DFT relaxations\n",
    "# make a stacked bar plot for composition types separated by two colors\n",
    "gnn_dir = \"/projects/rlmolecule/jlaw/crystal-gnn-fork/\"\n",
    "df_dft = pd.read_csv(f\"{gnn_dir}/inputs/structures/battery_relaxed_energies.csv\")\n",
    "df_dft.head(2)"
   ]
  },
  {
   "cell_type": "code",
   "execution_count": 7,
   "id": "bf1b0509-841d-4a2a-8e35-04914b067aef",
   "metadata": {},
   "outputs": [
    {
     "data": {
      "text/plain": [
       "0     K3P1|_1_3|monoclinic|POSCAR_sg9_icsd_261955|1\n",
       "1    K3P1|_1_3|monoclinic|POSCAR_sg15_icsd_010490|1\n",
       "2    K3P1|_1_3|monoclinic|POSCAR_sg15_icsd_039430|1\n",
       "Name: 0, dtype: object"
      ]
     },
     "execution_count": 7,
     "metadata": {},
     "output_type": "execute_result"
    }
   ],
   "source": [
    "decorations = pd.read_csv(\"/projects/rlmolecule/jlaw/crystals/2021-09-22/all-decorations-c150.txt.gz\", \n",
    "                          header=None,\n",
    "                          squeeze=True)\n",
    "decorations.head(3)"
   ]
  },
  {
   "cell_type": "code",
   "execution_count": 8,
   "id": "487b7dfe-026d-4ba6-a158-36a6694152b2",
   "metadata": {},
   "outputs": [
    {
     "data": {
      "text/plain": [
       "0     K3P1_sg9_icsd_261955_1\n",
       "1    K3P1_sg15_icsd_010490_1\n",
       "Name: 0, dtype: object"
      ]
     },
     "execution_count": 8,
     "metadata": {},
     "output_type": "execute_result"
    }
   ],
   "source": [
    "def extract_id(x):\n",
    "    \"\"\"\n",
    "    Example rlmolecule ID: K3P1|_1_3|monoclinic|POSCAR_sg9_icsd_261955|1\n",
    "    dft relaxation ID: K3P1_sg9_icsd_261955_1\n",
    "    \"\"\"\n",
    "    split = x.split(\"|\")\n",
    "    return f\"{split[0]}_{split[3].replace('POSCAR_','')}_{split[4]}\"\n",
    "# decorations['id'] = \n",
    "decors2 = decorations.apply(extract_id)\n",
    "decors2.head(2)"
   ]
  },
  {
   "cell_type": "code",
   "execution_count": 9,
   "id": "4d8bb454-45e3-4574-818b-f421192ccb42",
   "metadata": {},
   "outputs": [
    {
     "data": {
      "text/html": [
       "<div>\n",
       "<style scoped>\n",
       "    .dataframe tbody tr th:only-of-type {\n",
       "        vertical-align: middle;\n",
       "    }\n",
       "\n",
       "    .dataframe tbody tr th {\n",
       "        vertical-align: top;\n",
       "    }\n",
       "\n",
       "    .dataframe thead th {\n",
       "        text-align: right;\n",
       "    }\n",
       "</style>\n",
       "<table border=\"1\" class=\"dataframe\">\n",
       "  <thead>\n",
       "    <tr style=\"text-align: right;\">\n",
       "      <th></th>\n",
       "      <th>comp_type</th>\n",
       "      <th>composition</th>\n",
       "      <th>relaxation</th>\n",
       "    </tr>\n",
       "    <tr>\n",
       "      <th>id</th>\n",
       "      <th></th>\n",
       "      <th></th>\n",
       "      <th></th>\n",
       "    </tr>\n",
       "  </thead>\n",
       "  <tbody>\n",
       "    <tr>\n",
       "      <th>K3P1_sg9_icsd_261955_1</th>\n",
       "      <td>13</td>\n",
       "      <td>K3P1</td>\n",
       "      <td>unrelaxed</td>\n",
       "    </tr>\n",
       "    <tr>\n",
       "      <th>K3P1_sg15_icsd_010490_1</th>\n",
       "      <td>13</td>\n",
       "      <td>K3P1</td>\n",
       "      <td>unrelaxed</td>\n",
       "    </tr>\n",
       "    <tr>\n",
       "      <th>K3P1_sg15_icsd_039430_1</th>\n",
       "      <td>13</td>\n",
       "      <td>K3P1</td>\n",
       "      <td>unrelaxed</td>\n",
       "    </tr>\n",
       "    <tr>\n",
       "      <th>K3P1_sg12_icsd_096543_1</th>\n",
       "      <td>13</td>\n",
       "      <td>K3P1</td>\n",
       "      <td>unrelaxed</td>\n",
       "    </tr>\n",
       "    <tr>\n",
       "      <th>K3P1_sg4_icsd_043243_1</th>\n",
       "      <td>13</td>\n",
       "      <td>K3P1</td>\n",
       "      <td>unrelaxed</td>\n",
       "    </tr>\n",
       "  </tbody>\n",
       "</table>\n",
       "</div>"
      ],
      "text/plain": [
       "                        comp_type composition relaxation\n",
       "id                                                      \n",
       "K3P1_sg9_icsd_261955_1         13        K3P1  unrelaxed\n",
       "K3P1_sg15_icsd_010490_1        13        K3P1  unrelaxed\n",
       "K3P1_sg15_icsd_039430_1        13        K3P1  unrelaxed\n",
       "K3P1_sg12_icsd_096543_1        13        K3P1  unrelaxed\n",
       "K3P1_sg4_icsd_043243_1         13        K3P1  unrelaxed"
      ]
     },
     "execution_count": 9,
     "metadata": {},
     "output_type": "execute_result"
    }
   ],
   "source": [
    "df2 = pd.DataFrame({'id': decors2, 'state': decorations})\n",
    "df2['comp_type'] = df2['state'].apply(lambda x: x.split('|')[1].replace('_',''))\n",
    "df2['composition'] = df2['state'].apply(lambda x: x.split('|')[0])\n",
    "df2['relaxation'] = 'unrelaxed'\n",
    "df2 = df2.drop('state', 1)\n",
    "df2 = df2.set_index('id')\n",
    "df2.head()"
   ]
  },
  {
   "cell_type": "code",
   "execution_count": 12,
   "id": "fd466389-abf4-4273-ab30-d8208fb5e45c",
   "metadata": {},
   "outputs": [
    {
     "data": {
      "text/html": [
       "<div>\n",
       "<style scoped>\n",
       "    .dataframe tbody tr th:only-of-type {\n",
       "        vertical-align: middle;\n",
       "    }\n",
       "\n",
       "    .dataframe tbody tr th {\n",
       "        vertical-align: top;\n",
       "    }\n",
       "\n",
       "    .dataframe thead th {\n",
       "        text-align: right;\n",
       "    }\n",
       "</style>\n",
       "<table border=\"1\" class=\"dataframe\">\n",
       "  <thead>\n",
       "    <tr style=\"text-align: right;\">\n",
       "      <th></th>\n",
       "      <th>comp_type</th>\n",
       "      <th>composition</th>\n",
       "      <th>energyperatom</th>\n",
       "      <th>relaxation</th>\n",
       "    </tr>\n",
       "    <tr>\n",
       "      <th>id</th>\n",
       "      <th></th>\n",
       "      <th></th>\n",
       "      <th></th>\n",
       "      <th></th>\n",
       "    </tr>\n",
       "  </thead>\n",
       "  <tbody>\n",
       "    <tr>\n",
       "      <th>Mg2Cl1P1_sg2_icsd_035676_1</th>\n",
       "      <td>112</td>\n",
       "      <td>Mg2Cl1P1</td>\n",
       "      <td>-3.527097</td>\n",
       "      <td>relaxed</td>\n",
       "    </tr>\n",
       "    <tr>\n",
       "      <th>Mg2Cl1P1_sg55_icsd_642437_1</th>\n",
       "      <td>112</td>\n",
       "      <td>Mg2Cl1P1</td>\n",
       "      <td>-3.365935</td>\n",
       "      <td>relaxed</td>\n",
       "    </tr>\n",
       "  </tbody>\n",
       "</table>\n",
       "</div>"
      ],
      "text/plain": [
       "                             comp_type composition  energyperatom relaxation\n",
       "id                                                                          \n",
       "Mg2Cl1P1_sg2_icsd_035676_1         112    Mg2Cl1P1      -3.527097    relaxed\n",
       "Mg2Cl1P1_sg55_icsd_642437_1        112    Mg2Cl1P1      -3.365935    relaxed"
      ]
     },
     "execution_count": 12,
     "metadata": {},
     "output_type": "execute_result"
    }
   ],
   "source": [
    "df_dft['relaxation'] = 'relaxed'\n",
    "df_dft = df_dft.set_index('id')\n",
    "df_dft.head(2)"
   ]
  },
  {
   "cell_type": "code",
   "execution_count": 13,
   "id": "a8dc2df1-88ce-4a27-8b58-4058a4ed6d88",
   "metadata": {},
   "outputs": [
    {
     "data": {
      "text/plain": [
       "unrelaxed    14910310\n",
       "relaxed         67840\n",
       "Name: relaxation, dtype: int64"
      ]
     },
     "execution_count": 13,
     "metadata": {},
     "output_type": "execute_result"
    }
   ],
   "source": [
    "df2['relaxation'] = df_dft['relaxation']\n",
    "df2['relaxation'] = df2['relaxation'].fillna('unrelaxed')\n",
    "df2['relaxation'].value_counts()"
   ]
  },
  {
   "cell_type": "code",
   "execution_count": 14,
   "id": "822898bb-5bd4-4c12-8f18-06295bc3fba1",
   "metadata": {},
   "outputs": [
    {
     "name": "stdout",
     "output_type": "stream",
     "text": [
      "772 / 138776 compositions have a relaxed structure\n"
     ]
    }
   ],
   "source": [
    "comps = set(df2['composition'].unique())\n",
    "relaxed_comps = set(df_dft['composition'].unique())\n",
    "print(f\"{len(relaxed_comps)} / {len(comps)} compositions have a relaxed structure\")"
   ]
  },
  {
   "cell_type": "code",
   "execution_count": 15,
   "id": "115a2341-bd69-4ed8-a520-26fce48c9199",
   "metadata": {},
   "outputs": [
    {
     "data": {
      "text/plain": [
       "Mg1Hf1P1Cl1O5    406\n",
       "Mg1Ti1W1O5S1     397\n",
       "Mg1Hf1O3         372\n",
       "Mg3N1P1          372\n",
       "Mg1Ti1O3         371\n",
       "                ... \n",
       "Na3Sn2I2N3         2\n",
       "K2Hg2F3Cl3         2\n",
       "K2Y1Ti1Br3O3       1\n",
       "Zn2Si2Cl3N3        1\n",
       "Na1La1B2Br4N2      1\n",
       "Name: composition, Length: 772, dtype: int64"
      ]
     },
     "execution_count": 15,
     "metadata": {},
     "output_type": "execute_result"
    }
   ],
   "source": [
    "df_dft['composition'].value_counts()"
   ]
  },
  {
   "cell_type": "code",
   "execution_count": 16,
   "id": "87275dd5-34ff-4b4e-92a9-bf0d00dbab72",
   "metadata": {},
   "outputs": [],
   "source": [
    "import matplotlib.pyplot as plt\n",
    "import seaborn as sns"
   ]
  },
  {
   "cell_type": "code",
   "execution_count": 17,
   "id": "44f4b978-baeb-4709-9799-825cb51e0496",
   "metadata": {},
   "outputs": [
    {
     "data": {
      "text/html": [
       "<div>\n",
       "<style scoped>\n",
       "    .dataframe tbody tr th:only-of-type {\n",
       "        vertical-align: middle;\n",
       "    }\n",
       "\n",
       "    .dataframe tbody tr th {\n",
       "        vertical-align: top;\n",
       "    }\n",
       "\n",
       "    .dataframe thead th {\n",
       "        text-align: right;\n",
       "    }\n",
       "</style>\n",
       "<table border=\"1\" class=\"dataframe\">\n",
       "  <thead>\n",
       "    <tr style=\"text-align: right;\">\n",
       "      <th>relaxation</th>\n",
       "      <th>relaxed</th>\n",
       "      <th>unrelaxed</th>\n",
       "    </tr>\n",
       "    <tr>\n",
       "      <th>comp_type</th>\n",
       "      <th></th>\n",
       "      <th></th>\n",
       "    </tr>\n",
       "  </thead>\n",
       "  <tbody>\n",
       "    <tr>\n",
       "      <th>11</th>\n",
       "      <td>3294.0</td>\n",
       "      <td>2882.0</td>\n",
       "    </tr>\n",
       "    <tr>\n",
       "      <th>111</th>\n",
       "      <td>NaN</td>\n",
       "      <td>21780.0</td>\n",
       "    </tr>\n",
       "  </tbody>\n",
       "</table>\n",
       "</div>"
      ],
      "text/plain": [
       "relaxation  relaxed  unrelaxed\n",
       "comp_type                     \n",
       "11           3294.0     2882.0\n",
       "111             NaN    21780.0"
      ]
     },
     "execution_count": 17,
     "metadata": {},
     "output_type": "execute_result"
    }
   ],
   "source": [
    "df_plot = df2.groupby(['comp_type', 'relaxation']).size().reset_index().pivot(columns='relaxation', index='comp_type', values=0)\n",
    "df_plot.head(2)"
   ]
  },
  {
   "cell_type": "code",
   "execution_count": 18,
   "id": "3125addb-d3db-495f-a833-2012d752e3fc",
   "metadata": {},
   "outputs": [],
   "source": [
    "df_plot.fillna(0, inplace=True)\n",
    "df_plot['sum'] = df_plot['relaxed'] + df_plot['unrelaxed']\n",
    "df_plot['frac'] = df_plot['relaxed'] / df_plot['sum']\n",
    "df_plot = df_plot.sort_values(['frac', 'sum'], ascending=False)\n",
    "df_plot.drop(['sum', 'frac'], 1, inplace=True)"
   ]
  },
  {
   "cell_type": "code",
   "execution_count": 21,
   "id": "ab4eb6f0-fbe1-4fcb-81b2-b6fef86193db",
   "metadata": {},
   "outputs": [
    {
     "data": {
      "image/png": "[encoded data removed]",
      "text/plain": [
       "<Figure size 864x360 with 1 Axes>"
      ]
     },
     "metadata": {
      "needs_background": "light"
     },
     "output_type": "display_data"
    }
   ],
   "source": [
    "f, ax = plt.subplots(figsize=(12,5))\n",
    "ax = df_plot.plot.bar(stacked=True, ax=ax)\n",
    "ax.set_yscale('log')\n",
    "ax.set_ylabel(\"# decorations\")\n",
    "ax.set_title(\"Fraction of decorations with a dft relaxation\")\n",
    "plt.show()\n",
    "plt.close()"
   ]
  },
  {
   "cell_type": "code",
   "execution_count": 22,
   "id": "3ade7029-0c2b-41db-ba36-f6571af8d6e7",
   "metadata": {},
   "outputs": [
    {
     "name": "stdout",
     "output_type": "stream",
     "text": [
      "772 / 138776 compositions have a relaxed structure\n"
     ]
    }
   ],
   "source": [
    "comps = set(df2['composition'].unique())\n",
    "relaxed_comps = set(df_dft['composition'].unique())\n",
    "print(f\"{len(relaxed_comps)} / {len(comps)} compositions have a relaxed structure\")"
   ]
  },
  {
   "cell_type": "code",
   "execution_count": 23,
   "id": "3da20c79-b33a-4b11-a824-60bd20d13c8d",
   "metadata": {},
   "outputs": [
    {
     "data": {
      "text/html": [
       "<div>\n",
       "<style scoped>\n",
       "    .dataframe tbody tr th:only-of-type {\n",
       "        vertical-align: middle;\n",
       "    }\n",
       "\n",
       "    .dataframe tbody tr th {\n",
       "        vertical-align: top;\n",
       "    }\n",
       "\n",
       "    .dataframe thead th {\n",
       "        text-align: right;\n",
       "    }\n",
       "</style>\n",
       "<table border=\"1\" class=\"dataframe\">\n",
       "  <thead>\n",
       "    <tr style=\"text-align: right;\">\n",
       "      <th></th>\n",
       "      <th>comp_type</th>\n",
       "      <th>composition</th>\n",
       "      <th>relaxation</th>\n",
       "    </tr>\n",
       "    <tr>\n",
       "      <th>id</th>\n",
       "      <th></th>\n",
       "      <th></th>\n",
       "      <th></th>\n",
       "    </tr>\n",
       "  </thead>\n",
       "  <tbody>\n",
       "    <tr>\n",
       "      <th>K3P1_sg9_icsd_261955_1</th>\n",
       "      <td>13</td>\n",
       "      <td>K3P1</td>\n",
       "      <td>unrelaxed</td>\n",
       "    </tr>\n",
       "  </tbody>\n",
       "</table>\n",
       "</div>"
      ],
      "text/plain": [
       "                       comp_type composition relaxation\n",
       "id                                                     \n",
       "K3P1_sg9_icsd_261955_1        13        K3P1  unrelaxed"
      ]
     },
     "execution_count": 23,
     "metadata": {},
     "output_type": "execute_result"
    }
   ],
   "source": [
    "df2.head(1)"
   ]
  },
  {
   "cell_type": "code",
   "execution_count": 24,
   "id": "d54a984a-7dd1-43a7-b916-3fb9908822a3",
   "metadata": {},
   "outputs": [],
   "source": [
    "from collections import defaultdict\n",
    "import re"
   ]
  },
  {
   "cell_type": "code",
   "execution_count": 25,
   "id": "3bfe14e7-2c3c-4bed-aa2d-4d2b1428109a",
   "metadata": {},
   "outputs": [],
   "source": [
    "def get_eles_from_comp(comp: str):\n",
    "    # split by the digits\n",
    "    # e.g., for \"Li1Sc1F4\": ['Li', '1', 'Sc', '1', 'F', '4', '']\n",
    "    split = np.asarray(re.split('(\\d+)', comp))\n",
    "    eles = tuple(split[range(0, len(split) - 1, 2)])\n",
    "    return eles"
   ]
  },
  {
   "cell_type": "code",
   "execution_count": 26,
   "id": "14ca1e8e-4899-40c3-bbe8-9955c8161b05",
   "metadata": {},
   "outputs": [
    {
     "data": {
      "application/vnd.jupyter.widget-view+json": {
       "model_id": "c95bee2599bb4d329824aebc534b990c",
       "version_major": 2,
       "version_minor": 0
      },
      "text/plain": [
       "  0%|          | 0/14978150 [00:00<?, ?it/s]"
      ]
     },
     "metadata": {},
     "output_type": "display_data"
    }
   ],
   "source": [
    "# also make the same type of plot but for individual elements\n",
    "ele_count_rel = defaultdict(int)\n",
    "ele_count_unrel = defaultdict(int)\n",
    "\n",
    "for comp, rel in tqdm(df2[['composition', 'relaxation']].values):\n",
    "    eles = get_eles_from_comp(comp)\n",
    "    for e in eles:\n",
    "        if rel == \"unrelaxed\":\n",
    "            ele_count_unrel[e] += 1\n",
    "        else:\n",
    "            ele_count_rel[e] += 1"
   ]
  },
  {
   "cell_type": "code",
   "execution_count": 27,
   "id": "cd249a84-e6cc-48a3-86d8-1feab5e0b6d1",
   "metadata": {},
   "outputs": [
    {
     "data": {
      "text/html": [
       "<div>\n",
       "<style scoped>\n",
       "    .dataframe tbody tr th:only-of-type {\n",
       "        vertical-align: middle;\n",
       "    }\n",
       "\n",
       "    .dataframe tbody tr th {\n",
       "        vertical-align: top;\n",
       "    }\n",
       "\n",
       "    .dataframe thead th {\n",
       "        text-align: right;\n",
       "    }\n",
       "</style>\n",
       "<table border=\"1\" class=\"dataframe\">\n",
       "  <thead>\n",
       "    <tr style=\"text-align: right;\">\n",
       "      <th></th>\n",
       "      <th>relaxed</th>\n",
       "      <th>unrelaxed</th>\n",
       "    </tr>\n",
       "  </thead>\n",
       "  <tbody>\n",
       "    <tr>\n",
       "      <th>K</th>\n",
       "      <td>11819</td>\n",
       "      <td>3365005</td>\n",
       "    </tr>\n",
       "    <tr>\n",
       "      <th>P</th>\n",
       "      <td>15639</td>\n",
       "      <td>4550638</td>\n",
       "    </tr>\n",
       "    <tr>\n",
       "      <th>B</th>\n",
       "      <td>4005</td>\n",
       "      <td>1776461</td>\n",
       "    </tr>\n",
       "    <tr>\n",
       "      <th>F</th>\n",
       "      <td>10103</td>\n",
       "      <td>3093769</td>\n",
       "    </tr>\n",
       "    <tr>\n",
       "      <th>Y</th>\n",
       "      <td>5099</td>\n",
       "      <td>1775367</td>\n",
       "    </tr>\n",
       "    <tr>\n",
       "      <th>W</th>\n",
       "      <td>3604</td>\n",
       "      <td>989282</td>\n",
       "    </tr>\n",
       "    <tr>\n",
       "      <th>Ti</th>\n",
       "      <td>4805</td>\n",
       "      <td>1410701</td>\n",
       "    </tr>\n",
       "    <tr>\n",
       "      <th>Cd</th>\n",
       "      <td>7185</td>\n",
       "      <td>2188532</td>\n",
       "    </tr>\n",
       "    <tr>\n",
       "      <th>Sn</th>\n",
       "      <td>4302</td>\n",
       "      <td>1411204</td>\n",
       "    </tr>\n",
       "    <tr>\n",
       "      <th>Hg</th>\n",
       "      <td>6076</td>\n",
       "      <td>2189641</td>\n",
       "    </tr>\n",
       "    <tr>\n",
       "      <th>La</th>\n",
       "      <td>3892</td>\n",
       "      <td>1776574</td>\n",
       "    </tr>\n",
       "    <tr>\n",
       "      <th>Al</th>\n",
       "      <td>4281</td>\n",
       "      <td>1776185</td>\n",
       "    </tr>\n",
       "    <tr>\n",
       "      <th>N</th>\n",
       "      <td>15789</td>\n",
       "      <td>4080970</td>\n",
       "    </tr>\n",
       "    <tr>\n",
       "      <th>Zn</th>\n",
       "      <td>18340</td>\n",
       "      <td>4067441</td>\n",
       "    </tr>\n",
       "    <tr>\n",
       "      <th>Ge</th>\n",
       "      <td>4379</td>\n",
       "      <td>1411127</td>\n",
       "    </tr>\n",
       "    <tr>\n",
       "      <th>Sb</th>\n",
       "      <td>4364</td>\n",
       "      <td>1137008</td>\n",
       "    </tr>\n",
       "    <tr>\n",
       "      <th>Zr</th>\n",
       "      <td>4831</td>\n",
       "      <td>1410675</td>\n",
       "    </tr>\n",
       "    <tr>\n",
       "      <th>Sc</th>\n",
       "      <td>4943</td>\n",
       "      <td>1775523</td>\n",
       "    </tr>\n",
       "    <tr>\n",
       "      <th>O</th>\n",
       "      <td>18793</td>\n",
       "      <td>4172248</td>\n",
       "    </tr>\n",
       "    <tr>\n",
       "      <th>Hf</th>\n",
       "      <td>5283</td>\n",
       "      <td>1410223</td>\n",
       "    </tr>\n",
       "    <tr>\n",
       "      <th>Cl</th>\n",
       "      <td>9758</td>\n",
       "      <td>3094114</td>\n",
       "    </tr>\n",
       "    <tr>\n",
       "      <th>I</th>\n",
       "      <td>9317</td>\n",
       "      <td>3094555</td>\n",
       "    </tr>\n",
       "    <tr>\n",
       "      <th>S</th>\n",
       "      <td>14505</td>\n",
       "      <td>4176536</td>\n",
       "    </tr>\n",
       "    <tr>\n",
       "      <th>Br</th>\n",
       "      <td>8961</td>\n",
       "      <td>3094911</td>\n",
       "    </tr>\n",
       "    <tr>\n",
       "      <th>Si</th>\n",
       "      <td>4492</td>\n",
       "      <td>1411014</td>\n",
       "    </tr>\n",
       "    <tr>\n",
       "      <th>Na</th>\n",
       "      <td>13589</td>\n",
       "      <td>3363235</td>\n",
       "    </tr>\n",
       "    <tr>\n",
       "      <th>Mg</th>\n",
       "      <td>15041</td>\n",
       "      <td>2597335</td>\n",
       "    </tr>\n",
       "    <tr>\n",
       "      <th>Li</th>\n",
       "      <td>13447</td>\n",
       "      <td>3363377</td>\n",
       "    </tr>\n",
       "  </tbody>\n",
       "</table>\n",
       "</div>"
      ],
      "text/plain": [
       "    relaxed  unrelaxed\n",
       "K     11819    3365005\n",
       "P     15639    4550638\n",
       "B      4005    1776461\n",
       "F     10103    3093769\n",
       "Y      5099    1775367\n",
       "W      3604     989282\n",
       "Ti     4805    1410701\n",
       "Cd     7185    2188532\n",
       "Sn     4302    1411204\n",
       "Hg     6076    2189641\n",
       "La     3892    1776574\n",
       "Al     4281    1776185\n",
       "N     15789    4080970\n",
       "Zn    18340    4067441\n",
       "Ge     4379    1411127\n",
       "Sb     4364    1137008\n",
       "Zr     4831    1410675\n",
       "Sc     4943    1775523\n",
       "O     18793    4172248\n",
       "Hf     5283    1410223\n",
       "Cl     9758    3094114\n",
       "I      9317    3094555\n",
       "S     14505    4176536\n",
       "Br     8961    3094911\n",
       "Si     4492    1411014\n",
       "Na    13589    3363235\n",
       "Mg    15041    2597335\n",
       "Li    13447    3363377"
      ]
     },
     "execution_count": 27,
     "metadata": {},
     "output_type": "execute_result"
    }
   ],
   "source": [
    "df_e = pd.DataFrame({'relaxed': ele_count_rel, 'unrelaxed': ele_count_unrel})\n",
    "df_e"
   ]
  },
  {
   "cell_type": "code",
   "execution_count": 28,
   "id": "d3de6958-3b86-41fc-a755-11d8703358e7",
   "metadata": {},
   "outputs": [],
   "source": [
    "# df_e['sum'] = df_e['relaxed'] + df_e['unrelaxed']\n",
    "# df_e['frac'] = df_e['relaxed'] / df_e['sum']\n",
    "df_e = df_e.sort_values('relaxed', ascending=False)\n",
    "# df_e.drop(['sum', 'frac'], 1, inplace=True)"
   ]
  },
  {
   "cell_type": "code",
   "execution_count": 31,
   "id": "6c42d568-0349-4989-bdcb-5b3031169418",
   "metadata": {},
   "outputs": [
    {
     "data": {
      "image/png": "[encoded data removed]",
      "text/plain": [
       "<Figure size 864x360 with 1 Axes>"
      ]
     },
     "metadata": {
      "needs_background": "light"
     },
     "output_type": "display_data"
    }
   ],
   "source": [
    "f, ax = plt.subplots(figsize=(12,5))\n",
    "ax = df_e.plot.bar(stacked=True, ax=ax)\n",
    "ax.set_yscale('log')\n",
    "ax.set_ylim(1000, ax.get_ylim()[1])\n",
    "ax.set_ylabel(\"# decorations\")\n",
    "ax.set_title(\"Fraction of structures with DFT relaxation - organized by element\")\n",
    "plt.show()"
   ]
  },
  {
   "cell_type": "markdown",
   "id": "3b9b7580-9ccf-4809-a325-9dddeca570ce",
   "metadata": {},
   "source": [
    "### Generate predicted energies for all battery structures\n",
    "\n",
    "- Check to see if there's any anomalies in the predicted energies for the battery structures\n",
    "- This work was moved to `examples/crystal_energy/scripts/all_crystal_pred_energy.py`"
   ]
  },
  {
   "cell_type": "code",
   "execution_count": 11,
   "id": "42d72aa2-f3f6-4c33-9fb7-5b16f58fa508",
   "metadata": {},
   "outputs": [],
   "source": [
    "def generate_decoration(state: CrystalState) -> Structure:\n",
    "    # Create the decoration of this composition onto this prototype structure\n",
    "    # the 'action_node' string has the following format at this point:\n",
    "    # comp_type|prototype_structure|decoration_idx\n",
    "    # we just need 'comp_type|prototype_structure' to get the icsd structure\n",
    "    structure_key = '|'.join(state.action_node.split('|')[:-1])\n",
    "    icsd_prototype = structures[structure_key]\n",
    "    decoration_idx = int(state.action_node.split('|')[-1]) - 1\n",
    "    decorated_structure, stoich = CrystalState.decorate_prototype_structure(\n",
    "        icsd_prototype, state.composition, decoration_idx=decoration_idx)\n",
    "#     # use this function to get just the composition of the decoration\n",
    "#     comp = decorate_prototype_structure_comp_only(\n",
    "#         icsd_prototype, state.composition, decoration_idx=decoration_idx)\n",
    "    return decorated_structure"
   ]
  },
  {
   "cell_type": "code",
   "execution_count": 16,
   "id": "1b1e6a09-c92c-4b96-9265-45664c56928a",
   "metadata": {},
   "outputs": [],
   "source": [
    "def generate_decorations(builder, state, visited, progress_bar):\n",
    "    \"\"\" DFS to generate all decorations (state string only) from the ICSD prototype structures\n",
    "    \"\"\"\n",
    "    if str(state) in visited:\n",
    "        return\n",
    "    children = state.get_next_actions(builder)\n",
    "    for c in children:\n",
    "        yield from generate_decorations(builder, c, visited, progress_bar)\n",
    "        visited.add(str(c))\n",
    "\n",
    "    if len(children) == 0:\n",
    "        progress_bar.update(1)\n",
    "        \n",
    "        # generate the decorated structure\n",
    "        try:\n",
    "            decorated_structure = generate_decoration(state)\n",
    "        except AssertionError:\n",
    "            return\n",
    "        yield decorated_structure"
   ]
  },
  {
   "cell_type": "code",
   "execution_count": 19,
   "id": "9b18c098-cd4d-4ba5-baaf-a3fb65aa2c85",
   "metadata": {},
   "outputs": [
    {
     "data": {
      "application/vnd.jupyter.widget-view+json": {
       "model_id": "6728fa0cdd374283a42d1d5bba3044e8",
       "version_major": 2,
       "version_minor": 0
      },
      "text/plain": [
       "  0%|          | 0/16000000 [00:00<?, ?it/s]"
      ]
     },
     "metadata": {},
     "output_type": "display_data"
    },
    {
     "name": "stderr",
     "output_type": "stream",
     "text": [
      "  0%|          | 89/16000000 [01:17<3872:41:32,  1.15it/s]\n",
      "\n",
      "  0%|          | 3143/16000000 [00:29<22:11:31, 200.23it/s]\u001b[A"
     ]
    },
    {
     "ename": "KeyboardInterrupt",
     "evalue": "",
     "output_type": "error",
     "traceback": [
      "\u001b[0;31m---------------------------------------------------------------------------\u001b[0m",
      "\u001b[0;31mValueError\u001b[0m                                Traceback (most recent call last)",
      "\u001b[0;32m~/.conda/envs/crystals/lib/python3.8/site-packages/pymatgen/core/periodic_table.py\u001b[0m in \u001b[0;36mget_el_sp\u001b[0;34m(obj)\u001b[0m\n\u001b[1;32m   1567\u001b[0m     \u001b[0;32mtry\u001b[0m\u001b[0;34m:\u001b[0m\u001b[0;34m\u001b[0m\u001b[0;34m\u001b[0m\u001b[0m\n\u001b[0;32m-> 1568\u001b[0;31m         \u001b[0mc\u001b[0m \u001b[0;34m=\u001b[0m \u001b[0mfloat\u001b[0m\u001b[0;34m(\u001b[0m\u001b[0mobj\u001b[0m\u001b[0;34m)\u001b[0m\u001b[0;34m\u001b[0m\u001b[0;34m\u001b[0m\u001b[0m\n\u001b[0m\u001b[1;32m   1569\u001b[0m         \u001b[0mi\u001b[0m \u001b[0;34m=\u001b[0m \u001b[0mint\u001b[0m\u001b[0;34m(\u001b[0m\u001b[0mc\u001b[0m\u001b[0;34m)\u001b[0m\u001b[0;34m\u001b[0m\u001b[0;34m\u001b[0m\u001b[0m\n",
      "\u001b[0;31mValueError\u001b[0m: could not convert string to float: 'F'",
      "\nDuring handling of the above exception, another exception occurred:\n",
      "\u001b[0;31mKeyboardInterrupt\u001b[0m                         Traceback (most recent call last)",
      "\u001b[0;32m<ipython-input-19-dd9a4478df93>\u001b[0m in \u001b[0;36m<module>\u001b[0;34m\u001b[0m\n\u001b[1;32m      8\u001b[0m \u001b[0mprogress_bar\u001b[0m \u001b[0;34m=\u001b[0m \u001b[0mtqdm\u001b[0m\u001b[0;34m(\u001b[0m\u001b[0mtotal\u001b[0m\u001b[0;34m=\u001b[0m\u001b[0mn\u001b[0m\u001b[0;34m)\u001b[0m\u001b[0;34m\u001b[0m\u001b[0;34m\u001b[0m\u001b[0m\n\u001b[1;32m      9\u001b[0m \u001b[0mvisited\u001b[0m \u001b[0;34m=\u001b[0m \u001b[0mset\u001b[0m\u001b[0;34m(\u001b[0m\u001b[0;34m)\u001b[0m\u001b[0;34m\u001b[0m\u001b[0;34m\u001b[0m\u001b[0m\n\u001b[0;32m---> 10\u001b[0;31m \u001b[0mdecorations\u001b[0m \u001b[0;34m=\u001b[0m \u001b[0mlist\u001b[0m\u001b[0;34m(\u001b[0m\u001b[0mgenerate_decorations\u001b[0m\u001b[0;34m(\u001b[0m\u001b[0mbuilder\u001b[0m\u001b[0;34m,\u001b[0m \u001b[0mstate\u001b[0m\u001b[0;34m,\u001b[0m \u001b[0mvisited\u001b[0m\u001b[0;34m,\u001b[0m \u001b[0mprogress_bar\u001b[0m\u001b[0;34m)\u001b[0m\u001b[0;34m)\u001b[0m\u001b[0;34m\u001b[0m\u001b[0;34m\u001b[0m\u001b[0m\n\u001b[0m\u001b[1;32m     11\u001b[0m \u001b[0mprint\u001b[0m\u001b[0;34m(\u001b[0m\u001b[0mlen\u001b[0m\u001b[0;34m(\u001b[0m\u001b[0mdecorations\u001b[0m\u001b[0;34m)\u001b[0m\u001b[0;34m)\u001b[0m\u001b[0;34m\u001b[0m\u001b[0;34m\u001b[0m\u001b[0m\n",
      "\u001b[0;32m<ipython-input-16-4759a41c798b>\u001b[0m in \u001b[0;36mgenerate_decorations\u001b[0;34m(builder, state, visited, progress_bar)\u001b[0m\n\u001b[1;32m      6\u001b[0m     \u001b[0mchildren\u001b[0m \u001b[0;34m=\u001b[0m \u001b[0mstate\u001b[0m\u001b[0;34m.\u001b[0m\u001b[0mget_next_actions\u001b[0m\u001b[0;34m(\u001b[0m\u001b[0mbuilder\u001b[0m\u001b[0;34m)\u001b[0m\u001b[0;34m\u001b[0m\u001b[0;34m\u001b[0m\u001b[0m\n\u001b[1;32m      7\u001b[0m     \u001b[0;32mfor\u001b[0m \u001b[0mc\u001b[0m \u001b[0;32min\u001b[0m \u001b[0mchildren\u001b[0m\u001b[0;34m:\u001b[0m\u001b[0;34m\u001b[0m\u001b[0;34m\u001b[0m\u001b[0m\n\u001b[0;32m----> 8\u001b[0;31m         \u001b[0;32myield\u001b[0m \u001b[0;32mfrom\u001b[0m \u001b[0mgenerate_decorations\u001b[0m\u001b[0;34m(\u001b[0m\u001b[0mbuilder\u001b[0m\u001b[0;34m,\u001b[0m \u001b[0mc\u001b[0m\u001b[0;34m,\u001b[0m \u001b[0mvisited\u001b[0m\u001b[0;34m,\u001b[0m \u001b[0mprogress_bar\u001b[0m\u001b[0;34m)\u001b[0m\u001b[0;34m\u001b[0m\u001b[0;34m\u001b[0m\u001b[0m\n\u001b[0m\u001b[1;32m      9\u001b[0m         \u001b[0mvisited\u001b[0m\u001b[0;34m.\u001b[0m\u001b[0madd\u001b[0m\u001b[0;34m(\u001b[0m\u001b[0mstr\u001b[0m\u001b[0;34m(\u001b[0m\u001b[0mc\u001b[0m\u001b[0;34m)\u001b[0m\u001b[0;34m)\u001b[0m\u001b[0;34m\u001b[0m\u001b[0;34m\u001b[0m\u001b[0m\n\u001b[1;32m     10\u001b[0m \u001b[0;34m\u001b[0m\u001b[0m\n",
      "\u001b[0;32m<ipython-input-16-4759a41c798b>\u001b[0m in \u001b[0;36mgenerate_decorations\u001b[0;34m(builder, state, visited, progress_bar)\u001b[0m\n\u001b[1;32m      6\u001b[0m     \u001b[0mchildren\u001b[0m \u001b[0;34m=\u001b[0m \u001b[0mstate\u001b[0m\u001b[0;34m.\u001b[0m\u001b[0mget_next_actions\u001b[0m\u001b[0;34m(\u001b[0m\u001b[0mbuilder\u001b[0m\u001b[0;34m)\u001b[0m\u001b[0;34m\u001b[0m\u001b[0;34m\u001b[0m\u001b[0m\n\u001b[1;32m      7\u001b[0m     \u001b[0;32mfor\u001b[0m \u001b[0mc\u001b[0m \u001b[0;32min\u001b[0m \u001b[0mchildren\u001b[0m\u001b[0;34m:\u001b[0m\u001b[0;34m\u001b[0m\u001b[0;34m\u001b[0m\u001b[0m\n\u001b[0;32m----> 8\u001b[0;31m         \u001b[0;32myield\u001b[0m \u001b[0;32mfrom\u001b[0m \u001b[0mgenerate_decorations\u001b[0m\u001b[0;34m(\u001b[0m\u001b[0mbuilder\u001b[0m\u001b[0;34m,\u001b[0m \u001b[0mc\u001b[0m\u001b[0;34m,\u001b[0m \u001b[0mvisited\u001b[0m\u001b[0;34m,\u001b[0m \u001b[0mprogress_bar\u001b[0m\u001b[0;34m)\u001b[0m\u001b[0;34m\u001b[0m\u001b[0;34m\u001b[0m\u001b[0m\n\u001b[0m\u001b[1;32m      9\u001b[0m         \u001b[0mvisited\u001b[0m\u001b[0;34m.\u001b[0m\u001b[0madd\u001b[0m\u001b[0;34m(\u001b[0m\u001b[0mstr\u001b[0m\u001b[0;34m(\u001b[0m\u001b[0mc\u001b[0m\u001b[0;34m)\u001b[0m\u001b[0;34m)\u001b[0m\u001b[0;34m\u001b[0m\u001b[0;34m\u001b[0m\u001b[0m\n\u001b[1;32m     10\u001b[0m \u001b[0;34m\u001b[0m\u001b[0m\n",
      "\u001b[0;32m<ipython-input-16-4759a41c798b>\u001b[0m in \u001b[0;36mgenerate_decorations\u001b[0;34m(builder, state, visited, progress_bar)\u001b[0m\n\u001b[1;32m      6\u001b[0m     \u001b[0mchildren\u001b[0m \u001b[0;34m=\u001b[0m \u001b[0mstate\u001b[0m\u001b[0;34m.\u001b[0m\u001b[0mget_next_actions\u001b[0m\u001b[0;34m(\u001b[0m\u001b[0mbuilder\u001b[0m\u001b[0;34m)\u001b[0m\u001b[0;34m\u001b[0m\u001b[0;34m\u001b[0m\u001b[0m\n\u001b[1;32m      7\u001b[0m     \u001b[0;32mfor\u001b[0m \u001b[0mc\u001b[0m \u001b[0;32min\u001b[0m \u001b[0mchildren\u001b[0m\u001b[0;34m:\u001b[0m\u001b[0;34m\u001b[0m\u001b[0;34m\u001b[0m\u001b[0m\n\u001b[0;32m----> 8\u001b[0;31m         \u001b[0;32myield\u001b[0m \u001b[0;32mfrom\u001b[0m \u001b[0mgenerate_decorations\u001b[0m\u001b[0;34m(\u001b[0m\u001b[0mbuilder\u001b[0m\u001b[0;34m,\u001b[0m \u001b[0mc\u001b[0m\u001b[0;34m,\u001b[0m \u001b[0mvisited\u001b[0m\u001b[0;34m,\u001b[0m \u001b[0mprogress_bar\u001b[0m\u001b[0;34m)\u001b[0m\u001b[0;34m\u001b[0m\u001b[0;34m\u001b[0m\u001b[0m\n\u001b[0m\u001b[1;32m      9\u001b[0m         \u001b[0mvisited\u001b[0m\u001b[0;34m.\u001b[0m\u001b[0madd\u001b[0m\u001b[0;34m(\u001b[0m\u001b[0mstr\u001b[0m\u001b[0;34m(\u001b[0m\u001b[0mc\u001b[0m\u001b[0;34m)\u001b[0m\u001b[0;34m)\u001b[0m\u001b[0;34m\u001b[0m\u001b[0;34m\u001b[0m\u001b[0m\n\u001b[1;32m     10\u001b[0m \u001b[0;34m\u001b[0m\u001b[0m\n",
      "\u001b[0;32m<ipython-input-16-4759a41c798b>\u001b[0m in \u001b[0;36mgenerate_decorations\u001b[0;34m(builder, state, visited, progress_bar)\u001b[0m\n\u001b[1;32m      6\u001b[0m     \u001b[0mchildren\u001b[0m \u001b[0;34m=\u001b[0m \u001b[0mstate\u001b[0m\u001b[0;34m.\u001b[0m\u001b[0mget_next_actions\u001b[0m\u001b[0;34m(\u001b[0m\u001b[0mbuilder\u001b[0m\u001b[0;34m)\u001b[0m\u001b[0;34m\u001b[0m\u001b[0;34m\u001b[0m\u001b[0m\n\u001b[1;32m      7\u001b[0m     \u001b[0;32mfor\u001b[0m \u001b[0mc\u001b[0m \u001b[0;32min\u001b[0m \u001b[0mchildren\u001b[0m\u001b[0;34m:\u001b[0m\u001b[0;34m\u001b[0m\u001b[0;34m\u001b[0m\u001b[0m\n\u001b[0;32m----> 8\u001b[0;31m         \u001b[0;32myield\u001b[0m \u001b[0;32mfrom\u001b[0m \u001b[0mgenerate_decorations\u001b[0m\u001b[0;34m(\u001b[0m\u001b[0mbuilder\u001b[0m\u001b[0;34m,\u001b[0m \u001b[0mc\u001b[0m\u001b[0;34m,\u001b[0m \u001b[0mvisited\u001b[0m\u001b[0;34m,\u001b[0m \u001b[0mprogress_bar\u001b[0m\u001b[0;34m)\u001b[0m\u001b[0;34m\u001b[0m\u001b[0;34m\u001b[0m\u001b[0m\n\u001b[0m\u001b[1;32m      9\u001b[0m         \u001b[0mvisited\u001b[0m\u001b[0;34m.\u001b[0m\u001b[0madd\u001b[0m\u001b[0;34m(\u001b[0m\u001b[0mstr\u001b[0m\u001b[0;34m(\u001b[0m\u001b[0mc\u001b[0m\u001b[0;34m)\u001b[0m\u001b[0;34m)\u001b[0m\u001b[0;34m\u001b[0m\u001b[0;34m\u001b[0m\u001b[0m\n\u001b[1;32m     10\u001b[0m \u001b[0;34m\u001b[0m\u001b[0m\n",
      "\u001b[0;32m<ipython-input-16-4759a41c798b>\u001b[0m in \u001b[0;36mgenerate_decorations\u001b[0;34m(builder, state, visited, progress_bar)\u001b[0m\n\u001b[1;32m      6\u001b[0m     \u001b[0mchildren\u001b[0m \u001b[0;34m=\u001b[0m \u001b[0mstate\u001b[0m\u001b[0;34m.\u001b[0m\u001b[0mget_next_actions\u001b[0m\u001b[0;34m(\u001b[0m\u001b[0mbuilder\u001b[0m\u001b[0;34m)\u001b[0m\u001b[0;34m\u001b[0m\u001b[0;34m\u001b[0m\u001b[0m\n\u001b[1;32m      7\u001b[0m     \u001b[0;32mfor\u001b[0m \u001b[0mc\u001b[0m \u001b[0;32min\u001b[0m \u001b[0mchildren\u001b[0m\u001b[0;34m:\u001b[0m\u001b[0;34m\u001b[0m\u001b[0;34m\u001b[0m\u001b[0m\n\u001b[0;32m----> 8\u001b[0;31m         \u001b[0;32myield\u001b[0m \u001b[0;32mfrom\u001b[0m \u001b[0mgenerate_decorations\u001b[0m\u001b[0;34m(\u001b[0m\u001b[0mbuilder\u001b[0m\u001b[0;34m,\u001b[0m \u001b[0mc\u001b[0m\u001b[0;34m,\u001b[0m \u001b[0mvisited\u001b[0m\u001b[0;34m,\u001b[0m \u001b[0mprogress_bar\u001b[0m\u001b[0;34m)\u001b[0m\u001b[0;34m\u001b[0m\u001b[0;34m\u001b[0m\u001b[0m\n\u001b[0m\u001b[1;32m      9\u001b[0m         \u001b[0mvisited\u001b[0m\u001b[0;34m.\u001b[0m\u001b[0madd\u001b[0m\u001b[0;34m(\u001b[0m\u001b[0mstr\u001b[0m\u001b[0;34m(\u001b[0m\u001b[0mc\u001b[0m\u001b[0;34m)\u001b[0m\u001b[0;34m)\u001b[0m\u001b[0;34m\u001b[0m\u001b[0;34m\u001b[0m\u001b[0m\n\u001b[1;32m     10\u001b[0m \u001b[0;34m\u001b[0m\u001b[0m\n",
      "\u001b[0;32m<ipython-input-16-4759a41c798b>\u001b[0m in \u001b[0;36mgenerate_decorations\u001b[0;34m(builder, state, visited, progress_bar)\u001b[0m\n\u001b[1;32m      6\u001b[0m     \u001b[0mchildren\u001b[0m \u001b[0;34m=\u001b[0m \u001b[0mstate\u001b[0m\u001b[0;34m.\u001b[0m\u001b[0mget_next_actions\u001b[0m\u001b[0;34m(\u001b[0m\u001b[0mbuilder\u001b[0m\u001b[0;34m)\u001b[0m\u001b[0;34m\u001b[0m\u001b[0;34m\u001b[0m\u001b[0m\n\u001b[1;32m      7\u001b[0m     \u001b[0;32mfor\u001b[0m \u001b[0mc\u001b[0m \u001b[0;32min\u001b[0m \u001b[0mchildren\u001b[0m\u001b[0;34m:\u001b[0m\u001b[0;34m\u001b[0m\u001b[0;34m\u001b[0m\u001b[0m\n\u001b[0;32m----> 8\u001b[0;31m         \u001b[0;32myield\u001b[0m \u001b[0;32mfrom\u001b[0m \u001b[0mgenerate_decorations\u001b[0m\u001b[0;34m(\u001b[0m\u001b[0mbuilder\u001b[0m\u001b[0;34m,\u001b[0m \u001b[0mc\u001b[0m\u001b[0;34m,\u001b[0m \u001b[0mvisited\u001b[0m\u001b[0;34m,\u001b[0m \u001b[0mprogress_bar\u001b[0m\u001b[0;34m)\u001b[0m\u001b[0;34m\u001b[0m\u001b[0;34m\u001b[0m\u001b[0m\n\u001b[0m\u001b[1;32m      9\u001b[0m         \u001b[0mvisited\u001b[0m\u001b[0;34m.\u001b[0m\u001b[0madd\u001b[0m\u001b[0;34m(\u001b[0m\u001b[0mstr\u001b[0m\u001b[0;34m(\u001b[0m\u001b[0mc\u001b[0m\u001b[0;34m)\u001b[0m\u001b[0;34m)\u001b[0m\u001b[0;34m\u001b[0m\u001b[0;34m\u001b[0m\u001b[0m\n\u001b[1;32m     10\u001b[0m \u001b[0;34m\u001b[0m\u001b[0m\n",
      "\u001b[0;32m<ipython-input-16-4759a41c798b>\u001b[0m in \u001b[0;36mgenerate_decorations\u001b[0;34m(builder, state, visited, progress_bar)\u001b[0m\n\u001b[1;32m      6\u001b[0m     \u001b[0mchildren\u001b[0m \u001b[0;34m=\u001b[0m \u001b[0mstate\u001b[0m\u001b[0;34m.\u001b[0m\u001b[0mget_next_actions\u001b[0m\u001b[0;34m(\u001b[0m\u001b[0mbuilder\u001b[0m\u001b[0;34m)\u001b[0m\u001b[0;34m\u001b[0m\u001b[0;34m\u001b[0m\u001b[0m\n\u001b[1;32m      7\u001b[0m     \u001b[0;32mfor\u001b[0m \u001b[0mc\u001b[0m \u001b[0;32min\u001b[0m \u001b[0mchildren\u001b[0m\u001b[0;34m:\u001b[0m\u001b[0;34m\u001b[0m\u001b[0;34m\u001b[0m\u001b[0m\n\u001b[0;32m----> 8\u001b[0;31m         \u001b[0;32myield\u001b[0m \u001b[0;32mfrom\u001b[0m \u001b[0mgenerate_decorations\u001b[0m\u001b[0;34m(\u001b[0m\u001b[0mbuilder\u001b[0m\u001b[0;34m,\u001b[0m \u001b[0mc\u001b[0m\u001b[0;34m,\u001b[0m \u001b[0mvisited\u001b[0m\u001b[0;34m,\u001b[0m \u001b[0mprogress_bar\u001b[0m\u001b[0;34m)\u001b[0m\u001b[0;34m\u001b[0m\u001b[0;34m\u001b[0m\u001b[0m\n\u001b[0m\u001b[1;32m      9\u001b[0m         \u001b[0mvisited\u001b[0m\u001b[0;34m.\u001b[0m\u001b[0madd\u001b[0m\u001b[0;34m(\u001b[0m\u001b[0mstr\u001b[0m\u001b[0;34m(\u001b[0m\u001b[0mc\u001b[0m\u001b[0;34m)\u001b[0m\u001b[0;34m)\u001b[0m\u001b[0;34m\u001b[0m\u001b[0;34m\u001b[0m\u001b[0m\n\u001b[1;32m     10\u001b[0m \u001b[0;34m\u001b[0m\u001b[0m\n",
      "\u001b[0;32m<ipython-input-16-4759a41c798b>\u001b[0m in \u001b[0;36mgenerate_decorations\u001b[0;34m(builder, state, visited, progress_bar)\u001b[0m\n\u001b[1;32m      6\u001b[0m     \u001b[0mchildren\u001b[0m \u001b[0;34m=\u001b[0m \u001b[0mstate\u001b[0m\u001b[0;34m.\u001b[0m\u001b[0mget_next_actions\u001b[0m\u001b[0;34m(\u001b[0m\u001b[0mbuilder\u001b[0m\u001b[0;34m)\u001b[0m\u001b[0;34m\u001b[0m\u001b[0;34m\u001b[0m\u001b[0m\n\u001b[1;32m      7\u001b[0m     \u001b[0;32mfor\u001b[0m \u001b[0mc\u001b[0m \u001b[0;32min\u001b[0m \u001b[0mchildren\u001b[0m\u001b[0;34m:\u001b[0m\u001b[0;34m\u001b[0m\u001b[0;34m\u001b[0m\u001b[0m\n\u001b[0;32m----> 8\u001b[0;31m         \u001b[0;32myield\u001b[0m \u001b[0;32mfrom\u001b[0m \u001b[0mgenerate_decorations\u001b[0m\u001b[0;34m(\u001b[0m\u001b[0mbuilder\u001b[0m\u001b[0;34m,\u001b[0m \u001b[0mc\u001b[0m\u001b[0;34m,\u001b[0m \u001b[0mvisited\u001b[0m\u001b[0;34m,\u001b[0m \u001b[0mprogress_bar\u001b[0m\u001b[0;34m)\u001b[0m\u001b[0;34m\u001b[0m\u001b[0;34m\u001b[0m\u001b[0m\n\u001b[0m\u001b[1;32m      9\u001b[0m         \u001b[0mvisited\u001b[0m\u001b[0;34m.\u001b[0m\u001b[0madd\u001b[0m\u001b[0;34m(\u001b[0m\u001b[0mstr\u001b[0m\u001b[0;34m(\u001b[0m\u001b[0mc\u001b[0m\u001b[0;34m)\u001b[0m\u001b[0;34m)\u001b[0m\u001b[0;34m\u001b[0m\u001b[0;34m\u001b[0m\u001b[0m\n\u001b[1;32m     10\u001b[0m \u001b[0;34m\u001b[0m\u001b[0m\n",
      "\u001b[0;32m<ipython-input-16-4759a41c798b>\u001b[0m in \u001b[0;36mgenerate_decorations\u001b[0;34m(builder, state, visited, progress_bar)\u001b[0m\n\u001b[1;32m      6\u001b[0m     \u001b[0mchildren\u001b[0m \u001b[0;34m=\u001b[0m \u001b[0mstate\u001b[0m\u001b[0;34m.\u001b[0m\u001b[0mget_next_actions\u001b[0m\u001b[0;34m(\u001b[0m\u001b[0mbuilder\u001b[0m\u001b[0;34m)\u001b[0m\u001b[0;34m\u001b[0m\u001b[0;34m\u001b[0m\u001b[0m\n\u001b[1;32m      7\u001b[0m     \u001b[0;32mfor\u001b[0m \u001b[0mc\u001b[0m \u001b[0;32min\u001b[0m \u001b[0mchildren\u001b[0m\u001b[0;34m:\u001b[0m\u001b[0;34m\u001b[0m\u001b[0;34m\u001b[0m\u001b[0m\n\u001b[0;32m----> 8\u001b[0;31m         \u001b[0;32myield\u001b[0m \u001b[0;32mfrom\u001b[0m \u001b[0mgenerate_decorations\u001b[0m\u001b[0;34m(\u001b[0m\u001b[0mbuilder\u001b[0m\u001b[0;34m,\u001b[0m \u001b[0mc\u001b[0m\u001b[0;34m,\u001b[0m \u001b[0mvisited\u001b[0m\u001b[0;34m,\u001b[0m \u001b[0mprogress_bar\u001b[0m\u001b[0;34m)\u001b[0m\u001b[0;34m\u001b[0m\u001b[0;34m\u001b[0m\u001b[0m\n\u001b[0m\u001b[1;32m      9\u001b[0m         \u001b[0mvisited\u001b[0m\u001b[0;34m.\u001b[0m\u001b[0madd\u001b[0m\u001b[0;34m(\u001b[0m\u001b[0mstr\u001b[0m\u001b[0;34m(\u001b[0m\u001b[0mc\u001b[0m\u001b[0;34m)\u001b[0m\u001b[0;34m)\u001b[0m\u001b[0;34m\u001b[0m\u001b[0;34m\u001b[0m\u001b[0m\n\u001b[1;32m     10\u001b[0m \u001b[0;34m\u001b[0m\u001b[0m\n",
      "\u001b[0;32m<ipython-input-16-4759a41c798b>\u001b[0m in \u001b[0;36mgenerate_decorations\u001b[0;34m(builder, state, visited, progress_bar)\u001b[0m\n\u001b[1;32m     14\u001b[0m         \u001b[0;31m# generate the decorated structure\u001b[0m\u001b[0;34m\u001b[0m\u001b[0;34m\u001b[0m\u001b[0;34m\u001b[0m\u001b[0m\n\u001b[1;32m     15\u001b[0m         \u001b[0;32mtry\u001b[0m\u001b[0;34m:\u001b[0m\u001b[0;34m\u001b[0m\u001b[0;34m\u001b[0m\u001b[0m\n\u001b[0;32m---> 16\u001b[0;31m             \u001b[0mdecorated_structure\u001b[0m \u001b[0;34m=\u001b[0m \u001b[0mgenerate_decoration\u001b[0m\u001b[0;34m(\u001b[0m\u001b[0mstate\u001b[0m\u001b[0;34m)\u001b[0m\u001b[0;34m\u001b[0m\u001b[0;34m\u001b[0m\u001b[0m\n\u001b[0m\u001b[1;32m     17\u001b[0m         \u001b[0;32mexcept\u001b[0m \u001b[0mAssertionError\u001b[0m\u001b[0;34m:\u001b[0m\u001b[0;34m\u001b[0m\u001b[0;34m\u001b[0m\u001b[0m\n\u001b[1;32m     18\u001b[0m             \u001b[0;32mreturn\u001b[0m\u001b[0;34m\u001b[0m\u001b[0;34m\u001b[0m\u001b[0m\n",
      "\u001b[0;32m<ipython-input-11-940afbc0a408>\u001b[0m in \u001b[0;36mgenerate_decoration\u001b[0;34m(state)\u001b[0m\n\u001b[1;32m      7\u001b[0m     \u001b[0micsd_prototype\u001b[0m \u001b[0;34m=\u001b[0m \u001b[0mstructures\u001b[0m\u001b[0;34m[\u001b[0m\u001b[0mstructure_key\u001b[0m\u001b[0;34m]\u001b[0m\u001b[0;34m\u001b[0m\u001b[0;34m\u001b[0m\u001b[0m\n\u001b[1;32m      8\u001b[0m     \u001b[0mdecoration_idx\u001b[0m \u001b[0;34m=\u001b[0m \u001b[0mint\u001b[0m\u001b[0;34m(\u001b[0m\u001b[0mstate\u001b[0m\u001b[0;34m.\u001b[0m\u001b[0maction_node\u001b[0m\u001b[0;34m.\u001b[0m\u001b[0msplit\u001b[0m\u001b[0;34m(\u001b[0m\u001b[0;34m'|'\u001b[0m\u001b[0;34m)\u001b[0m\u001b[0;34m[\u001b[0m\u001b[0;34m-\u001b[0m\u001b[0;36m1\u001b[0m\u001b[0;34m]\u001b[0m\u001b[0;34m)\u001b[0m \u001b[0;34m-\u001b[0m \u001b[0;36m1\u001b[0m\u001b[0;34m\u001b[0m\u001b[0;34m\u001b[0m\u001b[0m\n\u001b[0;32m----> 9\u001b[0;31m     decorated_structure, stoich = CrystalState.decorate_prototype_structure(\n\u001b[0m\u001b[1;32m     10\u001b[0m         icsd_prototype, state.composition, decoration_idx=decoration_idx)\n\u001b[1;32m     11\u001b[0m \u001b[0;31m#     # use this function to get just the composition of the decoration\u001b[0m\u001b[0;34m\u001b[0m\u001b[0;34m\u001b[0m\u001b[0;34m\u001b[0m\u001b[0m\n",
      "\u001b[0;32m~/projects/arpa-e/crystals/rlmolecule/examples/crystal_energy/../../rlmolecule/crystal/crystal_state.py\u001b[0m in \u001b[0;36mdecorate_prototype_structure\u001b[0;34m(icsd_prototype, composition, decoration_idx)\u001b[0m\n\u001b[1;32m    146\u001b[0m         \u001b[0;31m# 'replace_species' function from pymatgen to replace original elements with new elements\u001b[0m\u001b[0;34m\u001b[0m\u001b[0;34m\u001b[0m\u001b[0;34m\u001b[0m\u001b[0m\n\u001b[1;32m    147\u001b[0m         \u001b[0mstrc_subs\u001b[0m \u001b[0;34m=\u001b[0m \u001b[0mdeepcopy\u001b[0m\u001b[0;34m(\u001b[0m\u001b[0micsd_prototype\u001b[0m\u001b[0;34m)\u001b[0m\u001b[0;34m\u001b[0m\u001b[0;34m\u001b[0m\u001b[0m\n\u001b[0;32m--> 148\u001b[0;31m         \u001b[0mstrc_subs\u001b[0m\u001b[0;34m.\u001b[0m\u001b[0mreplace_species\u001b[0m\u001b[0;34m(\u001b[0m\u001b[0mreplacement\u001b[0m\u001b[0;34m)\u001b[0m\u001b[0;34m\u001b[0m\u001b[0;34m\u001b[0m\u001b[0m\n\u001b[0m\u001b[1;32m    149\u001b[0m \u001b[0;34m\u001b[0m\u001b[0m\n\u001b[1;32m    150\u001b[0m         \u001b[0;32mreturn\u001b[0m \u001b[0mstrc_subs\u001b[0m\u001b[0;34m,\u001b[0m \u001b[0mvalid_comp_permutations\u001b[0m\u001b[0;34m[\u001b[0m\u001b[0mdecoration_idx\u001b[0m\u001b[0;34m]\u001b[0m\u001b[0;34m\u001b[0m\u001b[0;34m\u001b[0m\u001b[0m\n",
      "\u001b[0;32m~/.conda/envs/crystals/lib/python3.8/site-packages/pymatgen/core/structure.py\u001b[0m in \u001b[0;36mreplace_species\u001b[0;34m(self, species_mapping)\u001b[0m\n\u001b[1;32m    477\u001b[0m                     \u001b[0mnew_sp\u001b[0m \u001b[0;34m=\u001b[0m \u001b[0msp_mapping\u001b[0m\u001b[0;34m.\u001b[0m\u001b[0mget\u001b[0m\u001b[0;34m(\u001b[0m\u001b[0msp\u001b[0m\u001b[0;34m,\u001b[0m \u001b[0msp\u001b[0m\u001b[0;34m)\u001b[0m\u001b[0;34m\u001b[0m\u001b[0;34m\u001b[0m\u001b[0m\n\u001b[1;32m    478\u001b[0m                     \u001b[0;32mtry\u001b[0m\u001b[0;34m:\u001b[0m\u001b[0;34m\u001b[0m\u001b[0;34m\u001b[0m\u001b[0m\n\u001b[0;32m--> 479\u001b[0;31m                         \u001b[0mc\u001b[0m \u001b[0;34m+=\u001b[0m \u001b[0mComposition\u001b[0m\u001b[0;34m(\u001b[0m\u001b[0mnew_sp\u001b[0m\u001b[0;34m)\u001b[0m \u001b[0;34m*\u001b[0m \u001b[0mamt\u001b[0m\u001b[0;34m\u001b[0m\u001b[0;34m\u001b[0m\u001b[0m\n\u001b[0m\u001b[1;32m    480\u001b[0m                     \u001b[0;32mexcept\u001b[0m \u001b[0mException\u001b[0m\u001b[0;34m:\u001b[0m\u001b[0;34m\u001b[0m\u001b[0;34m\u001b[0m\u001b[0m\n\u001b[1;32m    481\u001b[0m                         \u001b[0mc\u001b[0m \u001b[0;34m+=\u001b[0m \u001b[0;34m{\u001b[0m\u001b[0mnew_sp\u001b[0m\u001b[0;34m:\u001b[0m \u001b[0mamt\u001b[0m\u001b[0;34m}\u001b[0m\u001b[0;34m\u001b[0m\u001b[0;34m\u001b[0m\u001b[0m\n",
      "\u001b[0;32m~/.conda/envs/crystals/lib/python3.8/site-packages/pymatgen/core/composition.py\u001b[0m in \u001b[0;36m__init__\u001b[0;34m(self, strict, *args, **kwargs)\u001b[0m\n\u001b[1;32m    133\u001b[0m                 \u001b[0;32mraise\u001b[0m \u001b[0mValueError\u001b[0m\u001b[0;34m(\u001b[0m\u001b[0;34m\"Amounts in Composition cannot be \"\u001b[0m \u001b[0;34m\"negative!\"\u001b[0m\u001b[0;34m)\u001b[0m\u001b[0;34m\u001b[0m\u001b[0;34m\u001b[0m\u001b[0m\n\u001b[1;32m    134\u001b[0m             \u001b[0;32mif\u001b[0m \u001b[0mabs\u001b[0m\u001b[0;34m(\u001b[0m\u001b[0mv\u001b[0m\u001b[0;34m)\u001b[0m \u001b[0;34m>=\u001b[0m \u001b[0mComposition\u001b[0m\u001b[0;34m.\u001b[0m\u001b[0mamount_tolerance\u001b[0m\u001b[0;34m:\u001b[0m\u001b[0;34m\u001b[0m\u001b[0;34m\u001b[0m\u001b[0m\n\u001b[0;32m--> 135\u001b[0;31m                 \u001b[0melamt\u001b[0m\u001b[0;34m[\u001b[0m\u001b[0mget_el_sp\u001b[0m\u001b[0;34m(\u001b[0m\u001b[0mk\u001b[0m\u001b[0;34m)\u001b[0m\u001b[0;34m]\u001b[0m \u001b[0;34m=\u001b[0m \u001b[0mv\u001b[0m\u001b[0;34m\u001b[0m\u001b[0;34m\u001b[0m\u001b[0m\n\u001b[0m\u001b[1;32m    136\u001b[0m                 \u001b[0mself\u001b[0m\u001b[0;34m.\u001b[0m\u001b[0m_natoms\u001b[0m \u001b[0;34m+=\u001b[0m \u001b[0mabs\u001b[0m\u001b[0;34m(\u001b[0m\u001b[0mv\u001b[0m\u001b[0;34m)\u001b[0m\u001b[0;34m\u001b[0m\u001b[0;34m\u001b[0m\u001b[0m\n\u001b[1;32m    137\u001b[0m         \u001b[0mself\u001b[0m\u001b[0;34m.\u001b[0m\u001b[0m_data\u001b[0m \u001b[0;34m=\u001b[0m \u001b[0melamt\u001b[0m\u001b[0;34m\u001b[0m\u001b[0;34m\u001b[0m\u001b[0m\n",
      "\u001b[0;32m~/.conda/envs/crystals/lib/python3.8/site-packages/pymatgen/core/periodic_table.py\u001b[0m in \u001b[0;36mget_el_sp\u001b[0;34m(obj)\u001b[0m\n\u001b[1;32m   1566\u001b[0m \u001b[0;34m\u001b[0m\u001b[0m\n\u001b[1;32m   1567\u001b[0m     \u001b[0;32mtry\u001b[0m\u001b[0;34m:\u001b[0m\u001b[0;34m\u001b[0m\u001b[0;34m\u001b[0m\u001b[0m\n\u001b[0;32m-> 1568\u001b[0;31m         \u001b[0mc\u001b[0m \u001b[0;34m=\u001b[0m \u001b[0mfloat\u001b[0m\u001b[0;34m(\u001b[0m\u001b[0mobj\u001b[0m\u001b[0;34m)\u001b[0m\u001b[0;34m\u001b[0m\u001b[0;34m\u001b[0m\u001b[0m\n\u001b[0m\u001b[1;32m   1569\u001b[0m         \u001b[0mi\u001b[0m \u001b[0;34m=\u001b[0m \u001b[0mint\u001b[0m\u001b[0;34m(\u001b[0m\u001b[0mc\u001b[0m\u001b[0;34m)\u001b[0m\u001b[0;34m\u001b[0m\u001b[0;34m\u001b[0m\u001b[0m\n\u001b[1;32m   1570\u001b[0m         \u001b[0mi\u001b[0m \u001b[0;34m=\u001b[0m \u001b[0mi\u001b[0m \u001b[0;32mif\u001b[0m \u001b[0mi\u001b[0m \u001b[0;34m==\u001b[0m \u001b[0mc\u001b[0m \u001b[0;32melse\u001b[0m \u001b[0;32mNone\u001b[0m  \u001b[0;31m# type: ignore\u001b[0m\u001b[0;34m\u001b[0m\u001b[0;34m\u001b[0m\u001b[0m\n",
      "\u001b[0;31mKeyboardInterrupt\u001b[0m: "
     ]
    }
   ],
   "source": [
    "preprocessor = CrystalPreprocessor()\n",
    "builder = CrystalBuilder()\n",
    "\n",
    "root = 'root'\n",
    "state = CrystalState(root)\n",
    "\n",
    "n = 16*10**6\n",
    "progress_bar = tqdm(total=n)\n",
    "visited = set()\n",
    "decorations = list(generate_decorations(builder, state, visited, progress_bar))\n",
    "print(len(decorations))"
   ]
  },
  {
   "cell_type": "code",
   "execution_count": 4,
   "id": "4e1b1eda-935a-4d98-9ab8-f62a19d457ad",
   "metadata": {},
   "outputs": [
    {
     "name": "stdout",
     "output_type": "stream",
     "text": [
      "WARNING:tensorflow:From /home/jlaw/.conda/envs/crystals/lib/python3.8/site-packages/tensorflow/python/ops/array_ops.py:5043: calling gather (from tensorflow.python.ops.array_ops) with validate_indices is deprecated and will be removed in a future version.\n",
      "Instructions for updating:\n",
      "The `validate_indices` argument has no effect. Indices are always validated on CPU and never validated on GPU.\n"
     ]
    }
   ],
   "source": [
    "# Initialize the preprocessor class\n",
    "preprocessor = CifPreprocessor(num_neighbors=12)\n",
    "preprocessor.from_json('preprocessor.json')\n",
    "\n",
    "# Load the model trained on \"cubic lattices\"\n",
    "model_file = \"inputs/models/icsd_battery_unrelaxed/hypo_randsub0_05_icsd_randsub0_05_seed1/best_model.hdf5\"\n",
    "model = tf.keras.models.load_model(\n",
    "    model_file,\n",
    "    custom_objects={**nfp.custom_objects, **{'RBFExpansion': RBFExpansion}})\n",
    "\n",
    "# generate the battery structures\n",
    "\n",
    "test_dataset = tf.data.Dataset.from_generator(\n",
    "    lambda: (preprocessor.construct_feature_matrices(get_crystal(id), train=False)\n",
    "             for id in tqdm(test.id)),\n",
    "    output_types=preprocessor.output_types,\n",
    "    output_shapes=preprocessor.output_shapes)\\\n",
    "    .padded_batch(batch_size=32,\n",
    "                  padded_shapes=preprocessor.padded_shapes(max_sites=256, max_bonds=2048),\n",
    "                  padding_values=preprocessor.padding_values)"
   ]
  }
 ],
 "metadata": {
  "kernelspec": {
   "display_name": "Python 3",
   "language": "python",
   "name": "python3"
  },
  "language_info": {
   "codemirror_mode": {
    "name": "ipython",
    "version": 3
   },
   "file_extension": ".py",
   "mimetype": "text/x-python",
   "name": "python",
   "nbconvert_exporter": "python",
   "pygments_lexer": "ipython3",
   "version": "3.8.10"
  }
 },
 "nbformat": 4,
 "nbformat_minor": 5
}
